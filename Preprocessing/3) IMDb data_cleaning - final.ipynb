{
 "cells": [
  {
   "cell_type": "markdown",
   "metadata": {},
   "source": [
    "## Final Exam WQD 7005 Data Mining \n",
    "## Question 1 \n",
    "\n",
    "### Name: Nurullainy binti Mat Rashid                   \n",
    "### ID :  17036591"
   ]
  },
  {
   "cell_type": "markdown",
   "metadata": {},
   "source": [
    "### IMDB Data Preprocessing\n"
   ]
  },
  {
   "cell_type": "code",
   "execution_count": 1,
   "metadata": {},
   "outputs": [],
   "source": [
    "import pandas as pd\n",
    "import numpy as np\n",
    "import datetime"
   ]
  },
  {
   "cell_type": "code",
   "execution_count": 2,
   "metadata": {},
   "outputs": [
    {
     "name": "stdout",
     "output_type": "stream",
     "text": [
      "dimension of the raw file:  (4200, 9)\n"
     ]
    },
    {
     "data": {
      "text/html": [
       "<div>\n",
       "<style scoped>\n",
       "    .dataframe tbody tr th:only-of-type {\n",
       "        vertical-align: middle;\n",
       "    }\n",
       "\n",
       "    .dataframe tbody tr th {\n",
       "        vertical-align: top;\n",
       "    }\n",
       "\n",
       "    .dataframe thead th {\n",
       "        text-align: right;\n",
       "    }\n",
       "</style>\n",
       "<table border=\"1\" class=\"dataframe\">\n",
       "  <thead>\n",
       "    <tr style=\"text-align: right;\">\n",
       "      <th></th>\n",
       "      <th>movie_name</th>\n",
       "      <th>year_released</th>\n",
       "      <th>runtime_in_min</th>\n",
       "      <th>genre</th>\n",
       "      <th>revenues</th>\n",
       "      <th>imdb_rating</th>\n",
       "      <th>number_of_votes</th>\n",
       "      <th>Star</th>\n",
       "      <th>link</th>\n",
       "    </tr>\n",
       "  </thead>\n",
       "  <tbody>\n",
       "    <tr>\n",
       "      <th>0</th>\n",
       "      <td>Gladiator</td>\n",
       "      <td>2000</td>\n",
       "      <td>155 min</td>\n",
       "      <td>Action, Adventure, Drama</td>\n",
       "      <td>187,705,427&gt;$187.71M</td>\n",
       "      <td>8.5</td>\n",
       "      <td>1295546</td>\n",
       "      <td>Director:Ridley Scott|     Stars:Russell Crowe...</td>\n",
       "      <td>https://www.imdb.com//title/tt0172495/?ref_=ad...</td>\n",
       "    </tr>\n",
       "    <tr>\n",
       "      <th>1</th>\n",
       "      <td>Memento</td>\n",
       "      <td>2000</td>\n",
       "      <td>113 min</td>\n",
       "      <td>Mystery, Thriller</td>\n",
       "      <td>25,544,867&gt;$25.54M</td>\n",
       "      <td>8.4</td>\n",
       "      <td>1088700</td>\n",
       "      <td>Director:Christopher Nolan|     Stars:Guy Pear...</td>\n",
       "      <td>https://www.imdb.com//title/tt0209144/?ref_=ad...</td>\n",
       "    </tr>\n",
       "    <tr>\n",
       "      <th>2</th>\n",
       "      <td>Snatch</td>\n",
       "      <td>2000</td>\n",
       "      <td>104 min</td>\n",
       "      <td>Comedy, Crime</td>\n",
       "      <td>30,328,156&gt;$30.33M</td>\n",
       "      <td>8.3</td>\n",
       "      <td>760646</td>\n",
       "      <td>Director:Guy Ritchie|     Stars:Jason Statham,...</td>\n",
       "      <td>https://www.imdb.com//title/tt0208092/?ref_=ad...</td>\n",
       "    </tr>\n",
       "    <tr>\n",
       "      <th>3</th>\n",
       "      <td>Requiem for a Dream</td>\n",
       "      <td>2000</td>\n",
       "      <td>102 min</td>\n",
       "      <td>Drama</td>\n",
       "      <td>3,635,482&gt;$3.64M</td>\n",
       "      <td>8.3</td>\n",
       "      <td>742193</td>\n",
       "      <td>Director:Darren Aronofsky|     Stars:Ellen Bur...</td>\n",
       "      <td>https://www.imdb.com//title/tt0180093/?ref_=ad...</td>\n",
       "    </tr>\n",
       "    <tr>\n",
       "      <th>4</th>\n",
       "      <td>X-Men</td>\n",
       "      <td>2000</td>\n",
       "      <td>104 min</td>\n",
       "      <td>Action, Adventure, Sci-Fi</td>\n",
       "      <td>157,299,717&gt;$157.30M</td>\n",
       "      <td>7.4</td>\n",
       "      <td>558716</td>\n",
       "      <td>Director:Bryan Singer|     Stars:Patrick Stewa...</td>\n",
       "      <td>https://www.imdb.com//title/tt0120903/?ref_=ad...</td>\n",
       "    </tr>\n",
       "  </tbody>\n",
       "</table>\n",
       "</div>"
      ],
      "text/plain": [
       "            movie_name year_released runtime_in_min  \\\n",
       "0            Gladiator          2000        155 min   \n",
       "1              Memento          2000        113 min   \n",
       "2               Snatch          2000        104 min   \n",
       "3  Requiem for a Dream          2000        102 min   \n",
       "4                X-Men          2000        104 min   \n",
       "\n",
       "                       genre              revenues  imdb_rating  \\\n",
       "0   Action, Adventure, Drama  187,705,427>$187.71M          8.5   \n",
       "1          Mystery, Thriller    25,544,867>$25.54M          8.4   \n",
       "2              Comedy, Crime    30,328,156>$30.33M          8.3   \n",
       "3                      Drama      3,635,482>$3.64M          8.3   \n",
       "4  Action, Adventure, Sci-Fi  157,299,717>$157.30M          7.4   \n",
       "\n",
       "   number_of_votes                                               Star  \\\n",
       "0          1295546  Director:Ridley Scott|     Stars:Russell Crowe...   \n",
       "1          1088700  Director:Christopher Nolan|     Stars:Guy Pear...   \n",
       "2           760646  Director:Guy Ritchie|     Stars:Jason Statham,...   \n",
       "3           742193  Director:Darren Aronofsky|     Stars:Ellen Bur...   \n",
       "4           558716  Director:Bryan Singer|     Stars:Patrick Stewa...   \n",
       "\n",
       "                                                link  \n",
       "0  https://www.imdb.com//title/tt0172495/?ref_=ad...  \n",
       "1  https://www.imdb.com//title/tt0209144/?ref_=ad...  \n",
       "2  https://www.imdb.com//title/tt0208092/?ref_=ad...  \n",
       "3  https://www.imdb.com//title/tt0180093/?ref_=ad...  \n",
       "4  https://www.imdb.com//title/tt0120903/?ref_=ad...  "
      ]
     },
     "execution_count": 2,
     "metadata": {},
     "output_type": "execute_result"
    }
   ],
   "source": [
    "# read data from csv file\n",
    "\n",
    "df = pd.read_csv('movies_imdb_raw.csv')\n",
    "print('dimension of the raw file: ', df.shape)\n",
    "\n",
    "df.head()"
   ]
  },
  {
   "cell_type": "code",
   "execution_count": 3,
   "metadata": {},
   "outputs": [
    {
     "data": {
      "text/plain": [
       "movie_name           0\n",
       "year_released        0\n",
       "runtime_in_min       0\n",
       "genre                0\n",
       "revenues           624\n",
       "imdb_rating          0\n",
       "number_of_votes      0\n",
       "Star                 0\n",
       "link                 0\n",
       "dtype: int64"
      ]
     },
     "execution_count": 3,
     "metadata": {},
     "output_type": "execute_result"
    }
   ],
   "source": [
    "# Finding null values if any\n",
    "\n",
    "df.isnull().sum()"
   ]
  },
  {
   "cell_type": "code",
   "execution_count": 4,
   "metadata": {},
   "outputs": [],
   "source": [
    "# Remove null rows and duplicate rows in movies_name\n",
    "\n",
    "df.dropna(how='any', inplace=True)"
   ]
  },
  {
   "cell_type": "code",
   "execution_count": 5,
   "metadata": {},
   "outputs": [
    {
     "name": "stdout",
     "output_type": "stream",
     "text": [
      "dimension of the current dataset:  (3576, 9)\n"
     ]
    }
   ],
   "source": [
    "print('dimension of the current dataset: ', df.shape)"
   ]
  },
  {
   "cell_type": "code",
   "execution_count": 6,
   "metadata": {},
   "outputs": [],
   "source": [
    "# Change year_released column to date format\n",
    "\n",
    "df['year_released'] = df['year_released'].astype(str)\n",
    "df['year_released'].unique()\n",
    "df['year_released'] = pd.to_datetime(df.year_released)\n",
    "df['year_released'] = df['year_released'].dt.strftime('%Y')"
   ]
  },
  {
   "cell_type": "code",
   "execution_count": 7,
   "metadata": {},
   "outputs": [],
   "source": [
    "# Remove trailing whitespace and characters in runtime_in_min column\n",
    "\n",
    "df['runtime_in_min'] = df['runtime_in_min'].map(lambda x: x.rstrip('').rstrip(' min'))\n",
    "df['runtime_in_min'] = df['runtime_in_min'].astype(int)"
   ]
  },
  {
   "cell_type": "code",
   "execution_count": 8,
   "metadata": {},
   "outputs": [],
   "source": [
    "# Split revenues column and remove duplicates data\n",
    "\n",
    "df['revenues'] = df['revenues'].str.split('>', 1, expand=True)\n",
    "df['revenues'] = df['revenues'].apply(lambda x: x.replace(',',''))\n",
    "df['revenues'] = df['revenues'].astype(str).astype(float)"
   ]
  },
  {
   "cell_type": "code",
   "execution_count": 9,
   "metadata": {},
   "outputs": [],
   "source": [
    "# Split star column to director and actor columns\n",
    "\n",
    "x = df['Star']\n",
    "x = pd.DataFrame(df.Star.str.split('|',1).tolist(), columns = ['director','actor'])"
   ]
  },
  {
   "cell_type": "code",
   "execution_count": 10,
   "metadata": {},
   "outputs": [],
   "source": [
    "# Add new columns (Director and Actor)\n",
    "\n",
    "df['director'] = x['director']\n",
    "df['actor'] = x['actor']\n",
    "df['director'] =  df.director.astype(str)\n",
    "df['actor'] = df.actor.astype(str)\n",
    "\n",
    "# Remove leading characters\n",
    "\n",
    "df['director'] = df.director.apply(lambda x: x.replace('Directors:', ''))\n",
    "df['director'] = df.director.apply(lambda x: x.replace('Director:', ''))\n",
    "df['actor'] = df.actor.apply(lambda x: x.replace('Stars:', ''))\n",
    "df['actor'] = df['actor'].str.strip()"
   ]
  },
  {
   "cell_type": "code",
   "execution_count": 11,
   "metadata": {},
   "outputs": [],
   "source": [
    "# Rename column's name\n",
    "\n",
    "df = df.rename(columns={'number_of_votes':'user_votes'})"
   ]
  },
  {
   "cell_type": "code",
   "execution_count": 12,
   "metadata": {},
   "outputs": [],
   "source": [
    "# Delete unsed Star columnS\n",
    "\n",
    "df.drop(['Star', 'link'], axis=1, inplace=True)  "
   ]
  },
  {
   "cell_type": "code",
   "execution_count": 13,
   "metadata": {},
   "outputs": [],
   "source": [
    "# Remove duplicate movies\n",
    "\n",
    "df = df.drop_duplicates( \"movie_name\" , keep='first')"
   ]
  },
  {
   "cell_type": "code",
   "execution_count": 14,
   "metadata": {},
   "outputs": [
    {
     "data": {
      "text/html": [
       "<div>\n",
       "<style scoped>\n",
       "    .dataframe tbody tr th:only-of-type {\n",
       "        vertical-align: middle;\n",
       "    }\n",
       "\n",
       "    .dataframe tbody tr th {\n",
       "        vertical-align: top;\n",
       "    }\n",
       "\n",
       "    .dataframe thead th {\n",
       "        text-align: right;\n",
       "    }\n",
       "</style>\n",
       "<table border=\"1\" class=\"dataframe\">\n",
       "  <thead>\n",
       "    <tr style=\"text-align: right;\">\n",
       "      <th></th>\n",
       "      <th>movie_name</th>\n",
       "      <th>year_released</th>\n",
       "      <th>runtime_in_min</th>\n",
       "      <th>genre</th>\n",
       "      <th>revenues</th>\n",
       "      <th>imdb_rating</th>\n",
       "      <th>user_votes</th>\n",
       "      <th>director</th>\n",
       "      <th>actor</th>\n",
       "    </tr>\n",
       "  </thead>\n",
       "  <tbody>\n",
       "    <tr>\n",
       "      <th>0</th>\n",
       "      <td>Gladiator</td>\n",
       "      <td>2000</td>\n",
       "      <td>155</td>\n",
       "      <td>Action, Adventure, Drama</td>\n",
       "      <td>187705427.0</td>\n",
       "      <td>8.5</td>\n",
       "      <td>1295546</td>\n",
       "      <td>Ridley Scott</td>\n",
       "      <td>Russell Crowe, Joaquin Phoenix, Connie Nielsen...</td>\n",
       "    </tr>\n",
       "    <tr>\n",
       "      <th>1</th>\n",
       "      <td>Memento</td>\n",
       "      <td>2000</td>\n",
       "      <td>113</td>\n",
       "      <td>Mystery, Thriller</td>\n",
       "      <td>25544867.0</td>\n",
       "      <td>8.4</td>\n",
       "      <td>1088700</td>\n",
       "      <td>Christopher Nolan</td>\n",
       "      <td>Guy Pearce, Carrie-Anne Moss, Joe Pantoliano, ...</td>\n",
       "    </tr>\n",
       "    <tr>\n",
       "      <th>2</th>\n",
       "      <td>Snatch</td>\n",
       "      <td>2000</td>\n",
       "      <td>104</td>\n",
       "      <td>Comedy, Crime</td>\n",
       "      <td>30328156.0</td>\n",
       "      <td>8.3</td>\n",
       "      <td>760646</td>\n",
       "      <td>Guy Ritchie</td>\n",
       "      <td>Jason Statham, Brad Pitt, Benicio Del Toro, De...</td>\n",
       "    </tr>\n",
       "    <tr>\n",
       "      <th>3</th>\n",
       "      <td>Requiem for a Dream</td>\n",
       "      <td>2000</td>\n",
       "      <td>102</td>\n",
       "      <td>Drama</td>\n",
       "      <td>3635482.0</td>\n",
       "      <td>8.3</td>\n",
       "      <td>742193</td>\n",
       "      <td>Darren Aronofsky</td>\n",
       "      <td>Ellen Burstyn, Jared Leto, Jennifer Connelly, ...</td>\n",
       "    </tr>\n",
       "    <tr>\n",
       "      <th>4</th>\n",
       "      <td>X-Men</td>\n",
       "      <td>2000</td>\n",
       "      <td>104</td>\n",
       "      <td>Action, Adventure, Sci-Fi</td>\n",
       "      <td>157299717.0</td>\n",
       "      <td>7.4</td>\n",
       "      <td>558716</td>\n",
       "      <td>Bryan Singer</td>\n",
       "      <td>Patrick Stewart, Hugh Jackman, Ian McKellen, F...</td>\n",
       "    </tr>\n",
       "  </tbody>\n",
       "</table>\n",
       "</div>"
      ],
      "text/plain": [
       "            movie_name year_released  runtime_in_min  \\\n",
       "0            Gladiator          2000             155   \n",
       "1              Memento          2000             113   \n",
       "2               Snatch          2000             104   \n",
       "3  Requiem for a Dream          2000             102   \n",
       "4                X-Men          2000             104   \n",
       "\n",
       "                       genre     revenues  imdb_rating  user_votes  \\\n",
       "0   Action, Adventure, Drama  187705427.0          8.5     1295546   \n",
       "1          Mystery, Thriller   25544867.0          8.4     1088700   \n",
       "2              Comedy, Crime   30328156.0          8.3      760646   \n",
       "3                      Drama    3635482.0          8.3      742193   \n",
       "4  Action, Adventure, Sci-Fi  157299717.0          7.4      558716   \n",
       "\n",
       "            director                                              actor  \n",
       "0       Ridley Scott  Russell Crowe, Joaquin Phoenix, Connie Nielsen...  \n",
       "1  Christopher Nolan  Guy Pearce, Carrie-Anne Moss, Joe Pantoliano, ...  \n",
       "2        Guy Ritchie  Jason Statham, Brad Pitt, Benicio Del Toro, De...  \n",
       "3   Darren Aronofsky  Ellen Burstyn, Jared Leto, Jennifer Connelly, ...  \n",
       "4       Bryan Singer  Patrick Stewart, Hugh Jackman, Ian McKellen, F...  "
      ]
     },
     "execution_count": 14,
     "metadata": {},
     "output_type": "execute_result"
    }
   ],
   "source": [
    "df.head()"
   ]
  },
  {
   "cell_type": "code",
   "execution_count": 15,
   "metadata": {},
   "outputs": [
    {
     "name": "stdout",
     "output_type": "stream",
     "text": [
      "<class 'pandas.core.frame.DataFrame'>\n",
      "Int64Index: 894 entries, 0 to 4015\n",
      "Data columns (total 9 columns):\n",
      "movie_name        894 non-null object\n",
      "year_released     894 non-null object\n",
      "runtime_in_min    894 non-null int64\n",
      "genre             894 non-null object\n",
      "revenues          894 non-null float64\n",
      "imdb_rating       894 non-null float64\n",
      "user_votes        894 non-null int64\n",
      "director          894 non-null object\n",
      "actor             894 non-null object\n",
      "dtypes: float64(2), int64(2), object(5)\n",
      "memory usage: 69.8+ KB\n"
     ]
    }
   ],
   "source": [
    "df.info()"
   ]
  },
  {
   "cell_type": "code",
   "execution_count": 16,
   "metadata": {},
   "outputs": [
    {
     "data": {
      "text/plain": [
       "movie_name        0\n",
       "year_released     0\n",
       "runtime_in_min    0\n",
       "genre             0\n",
       "revenues          0\n",
       "imdb_rating       0\n",
       "user_votes        0\n",
       "director          0\n",
       "actor             0\n",
       "dtype: int64"
      ]
     },
     "execution_count": 16,
     "metadata": {},
     "output_type": "execute_result"
    }
   ],
   "source": [
    "df.isnull().sum()"
   ]
  },
  {
   "cell_type": "code",
   "execution_count": 17,
   "metadata": {},
   "outputs": [],
   "source": [
    "# Export data as csv file\n",
    "\n",
    "df.to_csv('movies_imdb_preprocessed2.csv', index=False)"
   ]
  },
  {
   "cell_type": "code",
   "execution_count": null,
   "metadata": {},
   "outputs": [],
   "source": []
  }
 ],
 "metadata": {
  "kernelspec": {
   "display_name": "Python 3",
   "language": "python",
   "name": "python3"
  },
  "language_info": {
   "codemirror_mode": {
    "name": "ipython",
    "version": 3
   },
   "file_extension": ".py",
   "mimetype": "text/x-python",
   "name": "python",
   "nbconvert_exporter": "python",
   "pygments_lexer": "ipython3",
   "version": "3.6.5"
  }
 },
 "nbformat": 4,
 "nbformat_minor": 4
}
