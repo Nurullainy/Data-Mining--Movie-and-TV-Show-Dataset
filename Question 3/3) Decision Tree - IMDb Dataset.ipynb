{
 "cells": [
  {
   "cell_type": "markdown",
   "metadata": {},
   "source": [
    "## Final Exam WQD 7005 Data Mining \n",
    "## Question 1 \n",
    "\n",
    "### Name: Nurullainy binti Mat Rashid                   \n",
    "### ID :  17036591"
   ]
  },
  {
   "cell_type": "markdown",
   "metadata": {},
   "source": [
    "### Topic: Decision Tree Model of Internet Movie Database (IMDb)\n",
    "\n",
    "The objectives are:\n",
    "\n",
    "1) To create Decision Tree model using data of TV Show and movie from IMDb. The data was collected from the following website : https://www.imdb.com/search/title/?year=2017\n",
    "\n",
    "2) Fine tune and further optimise decision tree model"
   ]
  },
  {
   "cell_type": "markdown",
   "metadata": {},
   "source": [
    "In order to achieve the task, I will be going to cover the following steps:\n",
    "\n",
    "    1) Importing required libraries\n",
    "    2) Loading Data\n",
    "    3) Feature Selection\n",
    "    4) Splitting Data\n",
    "    5) Building Decision Tree Model\n",
    "    6) Evaluating Model\n",
    "    7) Visualizing Decision Trees\n"
   ]
  },
  {
   "cell_type": "markdown",
   "metadata": {},
   "source": [
    "### 1) Importing required libraries"
   ]
  },
  {
   "cell_type": "code",
   "execution_count": 3,
   "metadata": {},
   "outputs": [],
   "source": [
    "import pandas as pd\n",
    "import numpy as np\n",
    "\n",
    "import seaborn as sns\n",
    "import matplotlib.pyplot as plt\n",
    "import plotly.express as px\n",
    "\n",
    "from sklearn.tree import DecisionTreeClassifier\n",
    "from sklearn.metrics import classification_report, accuracy_score\n",
    "from sklearn.model_selection import train_test_split\n",
    "from sklearn.tree import DecisionTreeRegressor\n",
    "\n",
    "from sklearn.tree import export_graphviz  \n",
    "from sklearn.model_selection import GridSearchCV\n",
    "import pydot\n",
    "from io import StringIO\n",
    "from sklearn.tree import export_graphviz"
   ]
  },
  {
   "cell_type": "markdown",
   "metadata": {},
   "source": [
    "### 2) Loading Data"
   ]
  },
  {
   "cell_type": "code",
   "execution_count": 4,
   "metadata": {},
   "outputs": [
    {
     "data": {
      "text/html": [
       "<div>\n",
       "<style scoped>\n",
       "    .dataframe tbody tr th:only-of-type {\n",
       "        vertical-align: middle;\n",
       "    }\n",
       "\n",
       "    .dataframe tbody tr th {\n",
       "        vertical-align: top;\n",
       "    }\n",
       "\n",
       "    .dataframe thead th {\n",
       "        text-align: right;\n",
       "    }\n",
       "</style>\n",
       "<table border=\"1\" class=\"dataframe\">\n",
       "  <thead>\n",
       "    <tr style=\"text-align: right;\">\n",
       "      <th></th>\n",
       "      <th>movie_name</th>\n",
       "      <th>year_released</th>\n",
       "      <th>runtime_in_min</th>\n",
       "      <th>genre</th>\n",
       "      <th>revenues</th>\n",
       "      <th>imdb_rating</th>\n",
       "      <th>user_votes</th>\n",
       "      <th>director</th>\n",
       "      <th>actor</th>\n",
       "    </tr>\n",
       "  </thead>\n",
       "  <tbody>\n",
       "    <tr>\n",
       "      <th>0</th>\n",
       "      <td>Gladiator</td>\n",
       "      <td>2000</td>\n",
       "      <td>155</td>\n",
       "      <td>Action, Adventure, Drama</td>\n",
       "      <td>187705427.0</td>\n",
       "      <td>8.5</td>\n",
       "      <td>1295546</td>\n",
       "      <td>Ridley Scott</td>\n",
       "      <td>Russell Crowe, Joaquin Phoenix, Connie Nielsen...</td>\n",
       "    </tr>\n",
       "    <tr>\n",
       "      <th>1</th>\n",
       "      <td>Memento</td>\n",
       "      <td>2000</td>\n",
       "      <td>113</td>\n",
       "      <td>Mystery, Thriller</td>\n",
       "      <td>25544867.0</td>\n",
       "      <td>8.4</td>\n",
       "      <td>1088700</td>\n",
       "      <td>Christopher Nolan</td>\n",
       "      <td>Guy Pearce, Carrie-Anne Moss, Joe Pantoliano, ...</td>\n",
       "    </tr>\n",
       "    <tr>\n",
       "      <th>2</th>\n",
       "      <td>Snatch</td>\n",
       "      <td>2000</td>\n",
       "      <td>104</td>\n",
       "      <td>Comedy, Crime</td>\n",
       "      <td>30328156.0</td>\n",
       "      <td>8.3</td>\n",
       "      <td>760646</td>\n",
       "      <td>Guy Ritchie</td>\n",
       "      <td>Jason Statham, Brad Pitt, Benicio Del Toro, De...</td>\n",
       "    </tr>\n",
       "    <tr>\n",
       "      <th>3</th>\n",
       "      <td>Requiem for a Dream</td>\n",
       "      <td>2000</td>\n",
       "      <td>102</td>\n",
       "      <td>Drama</td>\n",
       "      <td>3635482.0</td>\n",
       "      <td>8.3</td>\n",
       "      <td>742193</td>\n",
       "      <td>Darren Aronofsky</td>\n",
       "      <td>Ellen Burstyn, Jared Leto, Jennifer Connelly, ...</td>\n",
       "    </tr>\n",
       "    <tr>\n",
       "      <th>4</th>\n",
       "      <td>X-Men</td>\n",
       "      <td>2000</td>\n",
       "      <td>104</td>\n",
       "      <td>Action, Adventure, Sci-Fi</td>\n",
       "      <td>157299717.0</td>\n",
       "      <td>7.4</td>\n",
       "      <td>558716</td>\n",
       "      <td>Bryan Singer</td>\n",
       "      <td>Patrick Stewart, Hugh Jackman, Ian McKellen, F...</td>\n",
       "    </tr>\n",
       "  </tbody>\n",
       "</table>\n",
       "</div>"
      ],
      "text/plain": [
       "            movie_name  year_released  runtime_in_min  \\\n",
       "0            Gladiator           2000             155   \n",
       "1              Memento           2000             113   \n",
       "2               Snatch           2000             104   \n",
       "3  Requiem for a Dream           2000             102   \n",
       "4                X-Men           2000             104   \n",
       "\n",
       "                       genre     revenues  imdb_rating  user_votes  \\\n",
       "0   Action, Adventure, Drama  187705427.0          8.5     1295546   \n",
       "1          Mystery, Thriller   25544867.0          8.4     1088700   \n",
       "2              Comedy, Crime   30328156.0          8.3      760646   \n",
       "3                      Drama    3635482.0          8.3      742193   \n",
       "4  Action, Adventure, Sci-Fi  157299717.0          7.4      558716   \n",
       "\n",
       "            director                                              actor  \n",
       "0       Ridley Scott  Russell Crowe, Joaquin Phoenix, Connie Nielsen...  \n",
       "1  Christopher Nolan  Guy Pearce, Carrie-Anne Moss, Joe Pantoliano, ...  \n",
       "2        Guy Ritchie  Jason Statham, Brad Pitt, Benicio Del Toro, De...  \n",
       "3   Darren Aronofsky  Ellen Burstyn, Jared Leto, Jennifer Connelly, ...  \n",
       "4       Bryan Singer  Patrick Stewart, Hugh Jackman, Ian McKellen, F...  "
      ]
     },
     "execution_count": 4,
     "metadata": {},
     "output_type": "execute_result"
    }
   ],
   "source": [
    "# Load dataset\n",
    "\n",
    "df = pd.read_csv('movies_imdb_preprocessed.csv')\n",
    "df.head()"
   ]
  },
  {
   "cell_type": "code",
   "execution_count": 5,
   "metadata": {},
   "outputs": [],
   "source": [
    "# Remove NAs and unused attribute\n",
    "\n",
    "df.dropna(how='any', inplace=True)\n",
    "df = df.drop(['movie_name'], axis=1)"
   ]
  },
  {
   "cell_type": "code",
   "execution_count": 6,
   "metadata": {},
   "outputs": [
    {
     "name": "stdout",
     "output_type": "stream",
     "text": [
      "<class 'pandas.core.frame.DataFrame'>\n",
      "Int64Index: 816 entries, 0 to 815\n",
      "Data columns (total 8 columns):\n",
      "year_released     816 non-null int64\n",
      "runtime_in_min    816 non-null int64\n",
      "genre             816 non-null object\n",
      "revenues          816 non-null float64\n",
      "imdb_rating       816 non-null float64\n",
      "user_votes        816 non-null int64\n",
      "director          816 non-null object\n",
      "actor             816 non-null object\n",
      "dtypes: float64(2), int64(3), object(3)\n",
      "memory usage: 57.4+ KB\n"
     ]
    }
   ],
   "source": [
    "df.info()"
   ]
  },
  {
   "cell_type": "code",
   "execution_count": 7,
   "metadata": {},
   "outputs": [
    {
     "data": {
      "text/plain": [
       "year_released     0\n",
       "runtime_in_min    0\n",
       "genre             0\n",
       "revenues          0\n",
       "imdb_rating       0\n",
       "user_votes        0\n",
       "director          0\n",
       "actor             0\n",
       "dtype: int64"
      ]
     },
     "execution_count": 7,
     "metadata": {},
     "output_type": "execute_result"
    }
   ],
   "source": [
    "df.isnull().sum()"
   ]
  },
  {
   "cell_type": "code",
   "execution_count": 8,
   "metadata": {},
   "outputs": [],
   "source": [
    "# Preprocessing revenues column\n",
    "\n",
    "df_revenue = df['revenues'].div(1000000).to_frame('col') # Change to Million notation\n",
    "df_revenue.shape\n",
    "\n",
    "df['revenues'] = df_revenue['col']\n",
    "\n",
    "df['revenues'] = df['revenues'].round(0).astype(int)\n",
    "#df.columns = ['revenues in mil']  # Rename the columns name"
   ]
  },
  {
   "cell_type": "code",
   "execution_count": 9,
   "metadata": {},
   "outputs": [],
   "source": [
    "# Change data to categorical variables\n",
    "\n",
    "df['year_released'] = df['year_released'].astype('str')\n",
    "df['genre'] = df['genre'].astype('str')\n",
    "df['director'] = df['director'].astype('str')\n",
    "df['actor'] = df['actor'].astype('str')"
   ]
  },
  {
   "cell_type": "code",
   "execution_count": 10,
   "metadata": {},
   "outputs": [
    {
     "name": "stdout",
     "output_type": "stream",
     "text": [
      "Before: 8\n",
      "After: 1351\n"
     ]
    }
   ],
   "source": [
    "# one hot encoding all categorical variables\n",
    "# all numerical variables are automatically excluded\n",
    "# number of columns after the conversion should explode\n",
    "print(\"Before:\", len(df.columns))\n",
    "\n",
    "# one hot encoding\n",
    "df = pd.get_dummies(df)\n",
    "\n",
    "print(\"After:\", len(df.columns))"
   ]
  },
  {
   "cell_type": "code",
   "execution_count": 11,
   "metadata": {},
   "outputs": [
    {
     "data": {
      "text/html": [
       "<div>\n",
       "<style scoped>\n",
       "    .dataframe tbody tr th:only-of-type {\n",
       "        vertical-align: middle;\n",
       "    }\n",
       "\n",
       "    .dataframe tbody tr th {\n",
       "        vertical-align: top;\n",
       "    }\n",
       "\n",
       "    .dataframe thead th {\n",
       "        text-align: right;\n",
       "    }\n",
       "</style>\n",
       "<table border=\"1\" class=\"dataframe\">\n",
       "  <thead>\n",
       "    <tr style=\"text-align: right;\">\n",
       "      <th></th>\n",
       "      <th>runtime_in_min</th>\n",
       "      <th>revenues</th>\n",
       "      <th>imdb_rating</th>\n",
       "      <th>user_votes</th>\n",
       "      <th>year_released_2000</th>\n",
       "      <th>year_released_2001</th>\n",
       "      <th>year_released_2002</th>\n",
       "      <th>year_released_2003</th>\n",
       "      <th>year_released_2004</th>\n",
       "      <th>year_released_2005</th>\n",
       "      <th>...</th>\n",
       "      <th>actor_Will Smith, Eva Mendes, Kevin James, Amber Valletta</th>\n",
       "      <th>actor_Will Smith, Jared Leto, Margot Robbie, Viola Davis</th>\n",
       "      <th>actor_Will Smith, Margot Robbie, Rodrigo Santoro, Adrian Martinez</th>\n",
       "      <th>actor_Will Smith, Martin Lawrence, Gabrielle Union, Jordi Mollà</th>\n",
       "      <th>actor_Will Smith, Rosario Dawson, Woody Harrelson, Michael Ealy</th>\n",
       "      <th>actor_Will Smith, Thandie Newton, Jaden Smith, Brian Howe</th>\n",
       "      <th>actor_Will Smith, Tommy Lee Jones, Josh Brolin, Jemaine Clement</th>\n",
       "      <th>actor_Yun-Fat Chow, Michelle Yeoh, Ziyi Zhang, Chen Chang</th>\n",
       "      <th>actor_Zac Efron, Matthew Perry, Leslie Mann, Thomas Lennon</th>\n",
       "      <th>actor_Zach Braff, Peter Sarsgaard, Natalie Portman, Ian Holm</th>\n",
       "    </tr>\n",
       "  </thead>\n",
       "  <tbody>\n",
       "    <tr>\n",
       "      <th>0</th>\n",
       "      <td>155</td>\n",
       "      <td>188</td>\n",
       "      <td>8.5</td>\n",
       "      <td>1295546</td>\n",
       "      <td>1</td>\n",
       "      <td>0</td>\n",
       "      <td>0</td>\n",
       "      <td>0</td>\n",
       "      <td>0</td>\n",
       "      <td>0</td>\n",
       "      <td>...</td>\n",
       "      <td>0</td>\n",
       "      <td>0</td>\n",
       "      <td>0</td>\n",
       "      <td>0</td>\n",
       "      <td>0</td>\n",
       "      <td>0</td>\n",
       "      <td>0</td>\n",
       "      <td>0</td>\n",
       "      <td>0</td>\n",
       "      <td>0</td>\n",
       "    </tr>\n",
       "    <tr>\n",
       "      <th>1</th>\n",
       "      <td>113</td>\n",
       "      <td>26</td>\n",
       "      <td>8.4</td>\n",
       "      <td>1088700</td>\n",
       "      <td>1</td>\n",
       "      <td>0</td>\n",
       "      <td>0</td>\n",
       "      <td>0</td>\n",
       "      <td>0</td>\n",
       "      <td>0</td>\n",
       "      <td>...</td>\n",
       "      <td>0</td>\n",
       "      <td>0</td>\n",
       "      <td>0</td>\n",
       "      <td>0</td>\n",
       "      <td>0</td>\n",
       "      <td>0</td>\n",
       "      <td>0</td>\n",
       "      <td>0</td>\n",
       "      <td>0</td>\n",
       "      <td>0</td>\n",
       "    </tr>\n",
       "    <tr>\n",
       "      <th>2</th>\n",
       "      <td>104</td>\n",
       "      <td>30</td>\n",
       "      <td>8.3</td>\n",
       "      <td>760646</td>\n",
       "      <td>1</td>\n",
       "      <td>0</td>\n",
       "      <td>0</td>\n",
       "      <td>0</td>\n",
       "      <td>0</td>\n",
       "      <td>0</td>\n",
       "      <td>...</td>\n",
       "      <td>0</td>\n",
       "      <td>0</td>\n",
       "      <td>0</td>\n",
       "      <td>0</td>\n",
       "      <td>0</td>\n",
       "      <td>0</td>\n",
       "      <td>0</td>\n",
       "      <td>0</td>\n",
       "      <td>0</td>\n",
       "      <td>0</td>\n",
       "    </tr>\n",
       "    <tr>\n",
       "      <th>3</th>\n",
       "      <td>102</td>\n",
       "      <td>4</td>\n",
       "      <td>8.3</td>\n",
       "      <td>742193</td>\n",
       "      <td>1</td>\n",
       "      <td>0</td>\n",
       "      <td>0</td>\n",
       "      <td>0</td>\n",
       "      <td>0</td>\n",
       "      <td>0</td>\n",
       "      <td>...</td>\n",
       "      <td>0</td>\n",
       "      <td>0</td>\n",
       "      <td>0</td>\n",
       "      <td>0</td>\n",
       "      <td>0</td>\n",
       "      <td>0</td>\n",
       "      <td>0</td>\n",
       "      <td>0</td>\n",
       "      <td>0</td>\n",
       "      <td>0</td>\n",
       "    </tr>\n",
       "    <tr>\n",
       "      <th>4</th>\n",
       "      <td>104</td>\n",
       "      <td>157</td>\n",
       "      <td>7.4</td>\n",
       "      <td>558716</td>\n",
       "      <td>1</td>\n",
       "      <td>0</td>\n",
       "      <td>0</td>\n",
       "      <td>0</td>\n",
       "      <td>0</td>\n",
       "      <td>0</td>\n",
       "      <td>...</td>\n",
       "      <td>0</td>\n",
       "      <td>0</td>\n",
       "      <td>0</td>\n",
       "      <td>0</td>\n",
       "      <td>0</td>\n",
       "      <td>0</td>\n",
       "      <td>0</td>\n",
       "      <td>0</td>\n",
       "      <td>0</td>\n",
       "      <td>0</td>\n",
       "    </tr>\n",
       "  </tbody>\n",
       "</table>\n",
       "<p>5 rows × 1351 columns</p>\n",
       "</div>"
      ],
      "text/plain": [
       "   runtime_in_min  revenues  imdb_rating  user_votes  year_released_2000  \\\n",
       "0             155       188          8.5     1295546                   1   \n",
       "1             113        26          8.4     1088700                   1   \n",
       "2             104        30          8.3      760646                   1   \n",
       "3             102         4          8.3      742193                   1   \n",
       "4             104       157          7.4      558716                   1   \n",
       "\n",
       "   year_released_2001  year_released_2002  year_released_2003  \\\n",
       "0                   0                   0                   0   \n",
       "1                   0                   0                   0   \n",
       "2                   0                   0                   0   \n",
       "3                   0                   0                   0   \n",
       "4                   0                   0                   0   \n",
       "\n",
       "   year_released_2004  year_released_2005  ...  \\\n",
       "0                   0                   0  ...   \n",
       "1                   0                   0  ...   \n",
       "2                   0                   0  ...   \n",
       "3                   0                   0  ...   \n",
       "4                   0                   0  ...   \n",
       "\n",
       "   actor_Will Smith, Eva Mendes, Kevin James, Amber Valletta  \\\n",
       "0                                                  0           \n",
       "1                                                  0           \n",
       "2                                                  0           \n",
       "3                                                  0           \n",
       "4                                                  0           \n",
       "\n",
       "   actor_Will Smith, Jared Leto, Margot Robbie, Viola Davis  \\\n",
       "0                                                  0          \n",
       "1                                                  0          \n",
       "2                                                  0          \n",
       "3                                                  0          \n",
       "4                                                  0          \n",
       "\n",
       "   actor_Will Smith, Margot Robbie, Rodrigo Santoro, Adrian Martinez  \\\n",
       "0                                                  0                   \n",
       "1                                                  0                   \n",
       "2                                                  0                   \n",
       "3                                                  0                   \n",
       "4                                                  0                   \n",
       "\n",
       "   actor_Will Smith, Martin Lawrence, Gabrielle Union, Jordi Mollà  \\\n",
       "0                                                  0                 \n",
       "1                                                  0                 \n",
       "2                                                  0                 \n",
       "3                                                  0                 \n",
       "4                                                  0                 \n",
       "\n",
       "   actor_Will Smith, Rosario Dawson, Woody Harrelson, Michael Ealy  \\\n",
       "0                                                  0                 \n",
       "1                                                  0                 \n",
       "2                                                  0                 \n",
       "3                                                  0                 \n",
       "4                                                  0                 \n",
       "\n",
       "   actor_Will Smith, Thandie Newton, Jaden Smith, Brian Howe  \\\n",
       "0                                                  0           \n",
       "1                                                  0           \n",
       "2                                                  0           \n",
       "3                                                  0           \n",
       "4                                                  0           \n",
       "\n",
       "   actor_Will Smith, Tommy Lee Jones, Josh Brolin, Jemaine Clement  \\\n",
       "0                                                  0                 \n",
       "1                                                  0                 \n",
       "2                                                  0                 \n",
       "3                                                  0                 \n",
       "4                                                  0                 \n",
       "\n",
       "   actor_Yun-Fat Chow, Michelle Yeoh, Ziyi Zhang, Chen Chang  \\\n",
       "0                                                  0           \n",
       "1                                                  0           \n",
       "2                                                  0           \n",
       "3                                                  0           \n",
       "4                                                  0           \n",
       "\n",
       "   actor_Zac Efron, Matthew Perry, Leslie Mann, Thomas Lennon  \\\n",
       "0                                                  0            \n",
       "1                                                  0            \n",
       "2                                                  0            \n",
       "3                                                  0            \n",
       "4                                                  0            \n",
       "\n",
       "   actor_Zach Braff, Peter Sarsgaard, Natalie Portman, Ian Holm  \n",
       "0                                                  0             \n",
       "1                                                  0             \n",
       "2                                                  0             \n",
       "3                                                  0             \n",
       "4                                                  0             \n",
       "\n",
       "[5 rows x 1351 columns]"
      ]
     },
     "execution_count": 11,
     "metadata": {},
     "output_type": "execute_result"
    }
   ],
   "source": [
    "df.head()"
   ]
  },
  {
   "cell_type": "markdown",
   "metadata": {},
   "source": [
    "### 3) Feature Selection\n"
   ]
  },
  {
   "cell_type": "code",
   "execution_count": 12,
   "metadata": {},
   "outputs": [
    {
     "data": {
      "text/plain": [
       "122.46446078431373"
      ]
     },
     "execution_count": 12,
     "metadata": {},
     "output_type": "execute_result"
    }
   ],
   "source": [
    "# Find average revenue number to estimate a threshold\n",
    "\n",
    "df['revenues'].mean()"
   ]
  },
  {
   "cell_type": "markdown",
   "metadata": {},
   "source": [
    "Based on average revenue, I will set USD 100 million as threshold to binarize the target variable."
   ]
  },
  {
   "cell_type": "code",
   "execution_count": 13,
   "metadata": {},
   "outputs": [],
   "source": [
    "# Change revenues column to binary variables\n",
    "\n",
    "threshold, upper, lower = 100, 1, 0\n",
    "\n",
    "df['revenues'] = np.where(df['revenues']>threshold, upper, lower)"
   ]
  },
  {
   "cell_type": "code",
   "execution_count": 14,
   "metadata": {},
   "outputs": [
    {
     "data": {
      "text/plain": [
       "array([1, 0])"
      ]
     },
     "execution_count": 14,
     "metadata": {},
     "output_type": "execute_result"
    }
   ],
   "source": [
    "df['revenues'].unique()"
   ]
  },
  {
   "cell_type": "code",
   "execution_count": 15,
   "metadata": {},
   "outputs": [
    {
     "data": {
      "text/html": [
       "<div>\n",
       "<style scoped>\n",
       "    .dataframe tbody tr th:only-of-type {\n",
       "        vertical-align: middle;\n",
       "    }\n",
       "\n",
       "    .dataframe tbody tr th {\n",
       "        vertical-align: top;\n",
       "    }\n",
       "\n",
       "    .dataframe thead th {\n",
       "        text-align: right;\n",
       "    }\n",
       "</style>\n",
       "<table border=\"1\" class=\"dataframe\">\n",
       "  <thead>\n",
       "    <tr style=\"text-align: right;\">\n",
       "      <th></th>\n",
       "      <th>runtime_in_min</th>\n",
       "      <th>revenues</th>\n",
       "      <th>imdb_rating</th>\n",
       "      <th>user_votes</th>\n",
       "      <th>year_released_2000</th>\n",
       "      <th>year_released_2001</th>\n",
       "      <th>year_released_2002</th>\n",
       "      <th>year_released_2003</th>\n",
       "      <th>year_released_2004</th>\n",
       "      <th>year_released_2005</th>\n",
       "      <th>...</th>\n",
       "      <th>actor_Will Smith, Eva Mendes, Kevin James, Amber Valletta</th>\n",
       "      <th>actor_Will Smith, Jared Leto, Margot Robbie, Viola Davis</th>\n",
       "      <th>actor_Will Smith, Margot Robbie, Rodrigo Santoro, Adrian Martinez</th>\n",
       "      <th>actor_Will Smith, Martin Lawrence, Gabrielle Union, Jordi Mollà</th>\n",
       "      <th>actor_Will Smith, Rosario Dawson, Woody Harrelson, Michael Ealy</th>\n",
       "      <th>actor_Will Smith, Thandie Newton, Jaden Smith, Brian Howe</th>\n",
       "      <th>actor_Will Smith, Tommy Lee Jones, Josh Brolin, Jemaine Clement</th>\n",
       "      <th>actor_Yun-Fat Chow, Michelle Yeoh, Ziyi Zhang, Chen Chang</th>\n",
       "      <th>actor_Zac Efron, Matthew Perry, Leslie Mann, Thomas Lennon</th>\n",
       "      <th>actor_Zach Braff, Peter Sarsgaard, Natalie Portman, Ian Holm</th>\n",
       "    </tr>\n",
       "  </thead>\n",
       "  <tbody>\n",
       "    <tr>\n",
       "      <th>0</th>\n",
       "      <td>155</td>\n",
       "      <td>1</td>\n",
       "      <td>8.5</td>\n",
       "      <td>1295546</td>\n",
       "      <td>1</td>\n",
       "      <td>0</td>\n",
       "      <td>0</td>\n",
       "      <td>0</td>\n",
       "      <td>0</td>\n",
       "      <td>0</td>\n",
       "      <td>...</td>\n",
       "      <td>0</td>\n",
       "      <td>0</td>\n",
       "      <td>0</td>\n",
       "      <td>0</td>\n",
       "      <td>0</td>\n",
       "      <td>0</td>\n",
       "      <td>0</td>\n",
       "      <td>0</td>\n",
       "      <td>0</td>\n",
       "      <td>0</td>\n",
       "    </tr>\n",
       "    <tr>\n",
       "      <th>1</th>\n",
       "      <td>113</td>\n",
       "      <td>0</td>\n",
       "      <td>8.4</td>\n",
       "      <td>1088700</td>\n",
       "      <td>1</td>\n",
       "      <td>0</td>\n",
       "      <td>0</td>\n",
       "      <td>0</td>\n",
       "      <td>0</td>\n",
       "      <td>0</td>\n",
       "      <td>...</td>\n",
       "      <td>0</td>\n",
       "      <td>0</td>\n",
       "      <td>0</td>\n",
       "      <td>0</td>\n",
       "      <td>0</td>\n",
       "      <td>0</td>\n",
       "      <td>0</td>\n",
       "      <td>0</td>\n",
       "      <td>0</td>\n",
       "      <td>0</td>\n",
       "    </tr>\n",
       "    <tr>\n",
       "      <th>2</th>\n",
       "      <td>104</td>\n",
       "      <td>0</td>\n",
       "      <td>8.3</td>\n",
       "      <td>760646</td>\n",
       "      <td>1</td>\n",
       "      <td>0</td>\n",
       "      <td>0</td>\n",
       "      <td>0</td>\n",
       "      <td>0</td>\n",
       "      <td>0</td>\n",
       "      <td>...</td>\n",
       "      <td>0</td>\n",
       "      <td>0</td>\n",
       "      <td>0</td>\n",
       "      <td>0</td>\n",
       "      <td>0</td>\n",
       "      <td>0</td>\n",
       "      <td>0</td>\n",
       "      <td>0</td>\n",
       "      <td>0</td>\n",
       "      <td>0</td>\n",
       "    </tr>\n",
       "    <tr>\n",
       "      <th>3</th>\n",
       "      <td>102</td>\n",
       "      <td>0</td>\n",
       "      <td>8.3</td>\n",
       "      <td>742193</td>\n",
       "      <td>1</td>\n",
       "      <td>0</td>\n",
       "      <td>0</td>\n",
       "      <td>0</td>\n",
       "      <td>0</td>\n",
       "      <td>0</td>\n",
       "      <td>...</td>\n",
       "      <td>0</td>\n",
       "      <td>0</td>\n",
       "      <td>0</td>\n",
       "      <td>0</td>\n",
       "      <td>0</td>\n",
       "      <td>0</td>\n",
       "      <td>0</td>\n",
       "      <td>0</td>\n",
       "      <td>0</td>\n",
       "      <td>0</td>\n",
       "    </tr>\n",
       "    <tr>\n",
       "      <th>4</th>\n",
       "      <td>104</td>\n",
       "      <td>1</td>\n",
       "      <td>7.4</td>\n",
       "      <td>558716</td>\n",
       "      <td>1</td>\n",
       "      <td>0</td>\n",
       "      <td>0</td>\n",
       "      <td>0</td>\n",
       "      <td>0</td>\n",
       "      <td>0</td>\n",
       "      <td>...</td>\n",
       "      <td>0</td>\n",
       "      <td>0</td>\n",
       "      <td>0</td>\n",
       "      <td>0</td>\n",
       "      <td>0</td>\n",
       "      <td>0</td>\n",
       "      <td>0</td>\n",
       "      <td>0</td>\n",
       "      <td>0</td>\n",
       "      <td>0</td>\n",
       "    </tr>\n",
       "  </tbody>\n",
       "</table>\n",
       "<p>5 rows × 1351 columns</p>\n",
       "</div>"
      ],
      "text/plain": [
       "   runtime_in_min  revenues  imdb_rating  user_votes  year_released_2000  \\\n",
       "0             155         1          8.5     1295546                   1   \n",
       "1             113         0          8.4     1088700                   1   \n",
       "2             104         0          8.3      760646                   1   \n",
       "3             102         0          8.3      742193                   1   \n",
       "4             104         1          7.4      558716                   1   \n",
       "\n",
       "   year_released_2001  year_released_2002  year_released_2003  \\\n",
       "0                   0                   0                   0   \n",
       "1                   0                   0                   0   \n",
       "2                   0                   0                   0   \n",
       "3                   0                   0                   0   \n",
       "4                   0                   0                   0   \n",
       "\n",
       "   year_released_2004  year_released_2005  ...  \\\n",
       "0                   0                   0  ...   \n",
       "1                   0                   0  ...   \n",
       "2                   0                   0  ...   \n",
       "3                   0                   0  ...   \n",
       "4                   0                   0  ...   \n",
       "\n",
       "   actor_Will Smith, Eva Mendes, Kevin James, Amber Valletta  \\\n",
       "0                                                  0           \n",
       "1                                                  0           \n",
       "2                                                  0           \n",
       "3                                                  0           \n",
       "4                                                  0           \n",
       "\n",
       "   actor_Will Smith, Jared Leto, Margot Robbie, Viola Davis  \\\n",
       "0                                                  0          \n",
       "1                                                  0          \n",
       "2                                                  0          \n",
       "3                                                  0          \n",
       "4                                                  0          \n",
       "\n",
       "   actor_Will Smith, Margot Robbie, Rodrigo Santoro, Adrian Martinez  \\\n",
       "0                                                  0                   \n",
       "1                                                  0                   \n",
       "2                                                  0                   \n",
       "3                                                  0                   \n",
       "4                                                  0                   \n",
       "\n",
       "   actor_Will Smith, Martin Lawrence, Gabrielle Union, Jordi Mollà  \\\n",
       "0                                                  0                 \n",
       "1                                                  0                 \n",
       "2                                                  0                 \n",
       "3                                                  0                 \n",
       "4                                                  0                 \n",
       "\n",
       "   actor_Will Smith, Rosario Dawson, Woody Harrelson, Michael Ealy  \\\n",
       "0                                                  0                 \n",
       "1                                                  0                 \n",
       "2                                                  0                 \n",
       "3                                                  0                 \n",
       "4                                                  0                 \n",
       "\n",
       "   actor_Will Smith, Thandie Newton, Jaden Smith, Brian Howe  \\\n",
       "0                                                  0           \n",
       "1                                                  0           \n",
       "2                                                  0           \n",
       "3                                                  0           \n",
       "4                                                  0           \n",
       "\n",
       "   actor_Will Smith, Tommy Lee Jones, Josh Brolin, Jemaine Clement  \\\n",
       "0                                                  0                 \n",
       "1                                                  0                 \n",
       "2                                                  0                 \n",
       "3                                                  0                 \n",
       "4                                                  0                 \n",
       "\n",
       "   actor_Yun-Fat Chow, Michelle Yeoh, Ziyi Zhang, Chen Chang  \\\n",
       "0                                                  0           \n",
       "1                                                  0           \n",
       "2                                                  0           \n",
       "3                                                  0           \n",
       "4                                                  0           \n",
       "\n",
       "   actor_Zac Efron, Matthew Perry, Leslie Mann, Thomas Lennon  \\\n",
       "0                                                  0            \n",
       "1                                                  0            \n",
       "2                                                  0            \n",
       "3                                                  0            \n",
       "4                                                  0            \n",
       "\n",
       "   actor_Zach Braff, Peter Sarsgaard, Natalie Portman, Ian Holm  \n",
       "0                                                  0             \n",
       "1                                                  0             \n",
       "2                                                  0             \n",
       "3                                                  0             \n",
       "4                                                  0             \n",
       "\n",
       "[5 rows x 1351 columns]"
      ]
     },
     "execution_count": 15,
     "metadata": {},
     "output_type": "execute_result"
    }
   ],
   "source": [
    "df.head()"
   ]
  },
  {
   "cell_type": "code",
   "execution_count": 16,
   "metadata": {},
   "outputs": [],
   "source": [
    "# Assigning X and y variables. y variable is revenues in mil while the rest of the variables are X variables\n",
    "\n",
    "X = df.drop(['revenues'], axis=1)\n",
    "y = df['revenues']"
   ]
  },
  {
   "cell_type": "markdown",
   "metadata": {},
   "source": [
    "### 4) Splitting Data"
   ]
  },
  {
   "cell_type": "code",
   "execution_count": 17,
   "metadata": {},
   "outputs": [],
   "source": [
    "# Setting random state = 0\n",
    "rs = 0\n",
    "\n",
    "# Training set = 70%\n",
    "# Test Set = 30%\n",
    "# Stratify = Yes\n",
    "X_mat = np.asmatrix(X)\n",
    "X_train, X_test, y_train, y_test = train_test_split(X_mat, y, test_size=0.3, stratify=y, random_state=rs)"
   ]
  },
  {
   "cell_type": "markdown",
   "metadata": {},
   "source": [
    "As `train_test_split` shuffles the dataset before splitting it, it is important to set a consistent random state, which is the seed number used to generate the shuffle. I am using 0 for random state number\n",
    "\n",
    "Convert `X` (`DataFrame` object) into a `numpy` matrix that can be consumed by `sklearn`. Next, use the `train_test_split` function to split dataset into 70% training and 30% test data. This is to ensure there is enough representation of the minority class in the training set. In this case, I need larger training set, which is 70/30.\n",
    "\n",
    "Stratification method ensures the same ratio of positive and negative targets in both train and test data set."
   ]
  },
  {
   "cell_type": "markdown",
   "metadata": {},
   "source": [
    "### 5) Building Decision Tree Model"
   ]
  },
  {
   "cell_type": "markdown",
   "metadata": {},
   "source": [
    "Initialise a model and training it using `.fit` function."
   ]
  },
  {
   "cell_type": "code",
   "execution_count": 18,
   "metadata": {},
   "outputs": [
    {
     "data": {
      "text/plain": [
       "DecisionTreeClassifier(class_weight=None, criterion='gini', max_depth=None,\n",
       "                       max_features=None, max_leaf_nodes=None,\n",
       "                       min_impurity_decrease=0.0, min_impurity_split=None,\n",
       "                       min_samples_leaf=1, min_samples_split=2,\n",
       "                       min_weight_fraction_leaf=0.0, presort=False,\n",
       "                       random_state=None, splitter='best')"
      ]
     },
     "execution_count": 18,
     "metadata": {},
     "output_type": "execute_result"
    }
   ],
   "source": [
    "# Decision tree training\n",
    "\n",
    "model = DecisionTreeClassifier()\n",
    "model.fit(X_train, y_train)"
   ]
  },
  {
   "cell_type": "markdown",
   "metadata": {},
   "source": [
    "### 6) Evaluating Model"
   ]
  },
  {
   "cell_type": "code",
   "execution_count": 19,
   "metadata": {},
   "outputs": [
    {
     "name": "stdout",
     "output_type": "stream",
     "text": [
      "Train accuracy: 1.0\n"
     ]
    }
   ],
   "source": [
    "print(\"Train accuracy:\", model.score(X_train, y_train))"
   ]
  },
  {
   "cell_type": "markdown",
   "metadata": {},
   "source": [
    "It seems that the model has managed to learn all of the patterns in training data and is able to predict with 100% accuracy. However, need to check whether it can replicate the performance on similar data that it is not trained on (test data)."
   ]
  },
  {
   "cell_type": "code",
   "execution_count": 20,
   "metadata": {},
   "outputs": [
    {
     "name": "stdout",
     "output_type": "stream",
     "text": [
      "Test accuracy: 0.7224489795918367\n"
     ]
    }
   ],
   "source": [
    "print(\"Test accuracy:\", model.score(X_test, y_test))"
   ]
  },
  {
   "cell_type": "markdown",
   "metadata": {},
   "source": [
    "This is a clear indication of overfitting of the model. This model will fail to make accurate predictions with new data because it learned the training data too well. Need to make the model generalize better on training dataset."
   ]
  },
  {
   "cell_type": "markdown",
   "metadata": {},
   "source": [
    "I'm using `classification_report()` function to assess the model's prediction on test data. `classification_report()` outputs a number of statistics for each target class:\n",
    "\n",
    "1. Precision: Proportion of all positive predictions that are correct. Precision is a measure of how many positive predictions were actual positive observations.\n",
    "2. Recall: Proportion of all real positive observations that are correct. Recall is a measure of how many actual positive observations were predicted correctly.\n",
    "3. F1: The harmonic mean of precision and recall. F1 score is an 'average' of both precision and recall.\n",
    "4. Support: Number of instances in each class.\n"
   ]
  },
  {
   "cell_type": "code",
   "execution_count": 21,
   "metadata": {},
   "outputs": [
    {
     "name": "stdout",
     "output_type": "stream",
     "text": [
      "              precision    recall  f1-score   support\n",
      "\n",
      "           0       0.73      0.77      0.75       132\n",
      "           1       0.71      0.66      0.69       113\n",
      "\n",
      "    accuracy                           0.72       245\n",
      "   macro avg       0.72      0.72      0.72       245\n",
      "weighted avg       0.72      0.72      0.72       245\n",
      "\n"
     ]
    }
   ],
   "source": [
    "y_pred = model.predict(X_test)\n",
    "\n",
    "print(classification_report(y_test, y_pred))"
   ]
  },
  {
   "cell_type": "markdown",
   "metadata": {},
   "source": [
    "To understand the Decision Tree model built, lets view the feature importance and visualize the tree using `sklearn` module"
   ]
  },
  {
   "cell_type": "markdown",
   "metadata": {},
   "source": [
    "### 7) Visualizing Decision Trees"
   ]
  },
  {
   "cell_type": "markdown",
   "metadata": {},
   "source": [
    "#### Feature importance"
   ]
  },
  {
   "cell_type": "code",
   "execution_count": 22,
   "metadata": {},
   "outputs": [
    {
     "name": "stdout",
     "output_type": "stream",
     "text": [
      "user_votes : 0.3332438930137847\n",
      "imdb_rating : 0.13867919796658823\n",
      "runtime_in_min : 0.062263933922945935\n",
      "genre_Animation, Adventure, Comedy : 0.03910759750547421\n",
      "genre_Animation, Action, Adventure : 0.016281580092323313\n",
      "genre_Action, Adventure, Sci-Fi : 0.013854789878016052\n",
      "year_released_2013 : 0.011435699581854534\n",
      "year_released_2008 : 0.011154912315335774\n",
      "genre_Animation, Comedy, Family : 0.010168940176953993\n",
      "genre_Biography, Drama, Sport : 0.009974319312323244\n"
     ]
    }
   ],
   "source": [
    "# grab feature importances from the model and feature name from the original X\n",
    "importances = model.feature_importances_\n",
    "feature_names = X.columns\n",
    "\n",
    "# sort them out in descending order\n",
    "indices = np.argsort(importances)\n",
    "indices = np.flip(indices, axis=0)\n",
    "\n",
    "# Print 10 most important features\n",
    "indices = indices[:10]\n",
    "\n",
    "for i in indices:\n",
    "    print(feature_names[i], ':', importances[i])"
   ]
  },
  {
   "cell_type": "markdown",
   "metadata": {},
   "source": [
    "We can't really gain insights of the decision tree with feature importance only. Need to perform feature importance and visualization to understand the decision tree model.  Use `export_graphviz` function and `pydot` module and save `.png` file to view the decision tree."
   ]
  },
  {
   "cell_type": "code",
   "execution_count": 23,
   "metadata": {},
   "outputs": [],
   "source": [
    "# Visualize the 1st Decision Tree\n",
    "\n",
    "dotfile = StringIO()\n",
    "export_graphviz(model, out_file=dotfile, feature_names=X.columns)\n",
    "\n",
    "graph = pydot.graph_from_dot_data(dotfile.getvalue())\n",
    "graph[0].write_png(\"dt1.png\")"
   ]
  },
  {
   "cell_type": "markdown",
   "metadata": {},
   "source": [
    "![GridSearchCV decision tree](dt1.png)"
   ]
  },
  {
   "cell_type": "markdown",
   "metadata": {},
   "source": [
    "The above tree shows that the model is very complex, incomprehensible, and deep which is a typical characteristic of an overfitting model. I want to limit the complexity of the model by setting the max_depth that the model can go. `max_depth` in a decision tree is a hyperparameter for structuring the depth of the tree (model). "
   ]
  },
  {
   "cell_type": "code",
   "execution_count": 24,
   "metadata": {},
   "outputs": [
    {
     "name": "stdout",
     "output_type": "stream",
     "text": [
      "Train accuracy: 0.9124343257443083 \n",
      "Test accuracy: 0.7020408163265306\n",
      "\n",
      "              precision    recall  f1-score   support\n",
      "\n",
      "           0       0.70      0.78      0.74       132\n",
      "           1       0.70      0.61      0.65       113\n",
      "\n",
      "    accuracy                           0.70       245\n",
      "   macro avg       0.70      0.70      0.70       245\n",
      "weighted avg       0.70      0.70      0.70       245\n",
      "\n"
     ]
    }
   ],
   "source": [
    "# Retrain model with a smaller max_depth limit = 9\n",
    "\n",
    "model = DecisionTreeClassifier(max_depth=9, random_state=rs)\n",
    "model.fit(X_train, y_train)\n",
    "\n",
    "print(\"Train accuracy:\", model.score(X_train, y_train),\"\\nTest accuracy:\", model.score(X_test, y_test))\n",
    "print()\n",
    "\n",
    "y_pred = model.predict(X_test)\n",
    "print(classification_report(y_test, y_pred))"
   ]
  },
  {
   "cell_type": "markdown",
   "metadata": {},
   "source": [
    "The simpler model (smaller max_depth) resulting the accuracy of the model on training data reduce to 91.2%. This means that model notes there is a trend in the data but not learning the training data too well.\n",
    "\n",
    "View new feature importance and visualize this new decision tree."
   ]
  },
  {
   "cell_type": "code",
   "execution_count": 25,
   "metadata": {},
   "outputs": [
    {
     "name": "stdout",
     "output_type": "stream",
     "text": [
      "user_votes : 0.41490770933880516\n",
      "imdb_rating : 0.1782355292621014\n",
      "runtime_in_min : 0.048040040477395594\n",
      "genre_Animation, Adventure, Comedy : 0.04532596006205183\n",
      "genre_Animation, Action, Adventure : 0.020253489273309784\n",
      "genre_Action, Adventure, Sci-Fi : 0.01877402858025954\n",
      "year_released_2013 : 0.015496023590055514\n",
      "genre_Biography, Drama, Sport : 0.01377949252164491\n",
      "genre_Animation, Comedy, Family : 0.013259547045420502\n",
      "year_released_2017 : 0.01011693808279453\n"
     ]
    }
   ],
   "source": [
    "importances = model.feature_importances_\n",
    "feature_names = X.columns\n",
    "\n",
    "# sort them out in descending order\n",
    "indices = np.argsort(importances)\n",
    "indices = np.flip(indices, axis=0)\n",
    "\n",
    "# Print 10 variable X\n",
    "indices = indices[:10]\n",
    "\n",
    "for i in indices:\n",
    "    print(feature_names[i], ':', importances[i])"
   ]
  },
  {
   "cell_type": "code",
   "execution_count": 26,
   "metadata": {},
   "outputs": [],
   "source": [
    "# Visualize the new tree\n",
    "\n",
    "dotfile = StringIO()\n",
    "export_graphviz(model, out_file=dotfile, feature_names=X.columns)\n",
    "graph = pydot.graph_from_dot_data(dotfile.getvalue())\n",
    "graph[0].write_png(\"dt2.png\") # saved in the following file"
   ]
  },
  {
   "cell_type": "markdown",
   "metadata": {},
   "source": [
    "![GridSearchCV decision tree](dt2.png)"
   ]
  },
  {
   "cell_type": "markdown",
   "metadata": {},
   "source": [
    "This looks better from the first model. However, the tree has more 20 leaf nodes here. Furthermore, there are a number of samples and value splits in each node. \n",
    "\n",
    "Next is to find the optimal combination of parameters for the model."
   ]
  },
  {
   "cell_type": "markdown",
   "metadata": {},
   "source": [
    "#### Finding optimal Hyperparameters with GridSearchCV"
   ]
  },
  {
   "cell_type": "markdown",
   "metadata": {},
   "source": [
    "A common method to find the optimal set of parameters for a model is to run an exhaustive search over all possible values of each parameter. Cross validation typically used to prevent overfitting.\n",
    "\n",
    "In `k-fold cross-validation`, the training dataset is randomly partitioned into `k` equal size partitions. Every k subsamples, one single subsample is retained as the validation data for testing the model, and the remaining k-1 subsamples are used as training data. The cross-validation process is then repeated k times (the folds), with each of the k subsamples used exactly once as the validation data. The k results from the folds can then be averaged (or otherwise combined) to produce a single estimation, which we will use to choose the best model. (courtesy of openml.org)\n",
    "\n",
    "`Grid-search` builds a model for every combination of hyperparameters specified and evaluates each model. \n",
    "\n",
    "In `sklearn`, the grid-search + k-fold validation is implemented in `GridSearchCV`."
   ]
  },
  {
   "cell_type": "markdown",
   "metadata": {},
   "source": [
    "Begin with plotting max_depth values vs training and test accuracy score to a give an idea of the optimal max_depth"
   ]
  },
  {
   "cell_type": "code",
   "execution_count": 35,
   "metadata": {},
   "outputs": [],
   "source": [
    "test_score = []\n",
    "train_score = []\n",
    "\n",
    "# check the model performance for max depth from 2-12\n",
    "for max_depth in range(2, 12):\n",
    "    model = DecisionTreeClassifier(max_depth=max_depth, random_state=rs)\n",
    "    model.fit(X_train, y_train)\n",
    "    \n",
    "    test_score.append(model.score(X_test, y_test))\n",
    "    train_score.append(model.score(X_train, y_train))"
   ]
  },
  {
   "cell_type": "code",
   "execution_count": 36,
   "metadata": {},
   "outputs": [
    {
     "data": {
      "image/png": "[encoded data removed]",
      "text/plain": [
       "<Figure size 432x288 with 1 Axes>"
      ]
     },
     "metadata": {
      "needs_background": "light"
     },
     "output_type": "display_data"
    }
   ],
   "source": [
    "# plot max depth hyperparameter values vs training and test accuracy score\n",
    "\n",
    "plt.plot(range(2, 12), train_score, 'b', range(2,12), test_score, 'r')\n",
    "plt.xlabel('max_depth\\nBlue = training acc. Red = test acc.')\n",
    "plt.ylabel('accuracy')\n",
    "plt.show()"
   ]
  },
  {
   "cell_type": "markdown",
   "metadata": {},
   "source": [
    "To perform a `GridSearchCV`, we first have to determine the hyperparameters and possible values of parameters that we want to use. A model `hyperparameter` is a characteristic of a model that is external to the model and whose value cannot be estimated from data.\n",
    "\n",
    "For decision tree model, I will search on 3 hyperparameters:\n",
    "\n",
    "    1. Criterion: The function to measure the quality of a split. There are two criterias we will use, “gini” for the Gini impurity and “entropy” for the information gain.\n",
    "    2. Max depth: The maximum depth of the tree. Let's start with range of 2-11.\n",
    "    3. Min samples leaf: The minimum number of samples required to be at a leaf node, allowing us to limit the minimum size of a leaf node. Let's start with range of 20-60 with step of 10."
   ]
  },
  {
   "cell_type": "code",
   "execution_count": 37,
   "metadata": {},
   "outputs": [
    {
     "name": "stdout",
     "output_type": "stream",
     "text": [
      "Train accuracy: 0.7495621716287215\n",
      "Test accuracy: 0.7183673469387755\n",
      "              precision    recall  f1-score   support\n",
      "\n",
      "           0       0.71      0.81      0.76       132\n",
      "           1       0.73      0.61      0.67       113\n",
      "\n",
      "    accuracy                           0.72       245\n",
      "   macro avg       0.72      0.71      0.71       245\n",
      "weighted avg       0.72      0.72      0.71       245\n",
      "\n",
      "{'criterion': 'gini', 'max_depth': 4, 'min_samples_leaf': 40}\n"
     ]
    },
    {
     "name": "stderr",
     "output_type": "stream",
     "text": [
      "/usr/local/lib/python3.6/site-packages/sklearn/model_selection/_search.py:813: DeprecationWarning:\n",
      "\n",
      "The default of the `iid` parameter will change from True to False in version 0.22 and will be removed in 0.24. This will change numeric results when test-set sizes are unequal.\n",
      "\n"
     ]
    }
   ],
   "source": [
    "# GridsearchCV #1 \n",
    "\n",
    "params = {'criterion': ['gini', 'entropy'],\n",
    "          'max_depth': range(1, 10),\n",
    "          'min_samples_leaf': range(20, 60, 10)}\n",
    "\n",
    "cv = GridSearchCV(param_grid=params, estimator=DecisionTreeClassifier(random_state=rs), cv=10)\n",
    "cv.fit(X_train, y_train)\n",
    "\n",
    "print(\"Train accuracy:\", cv.score(X_train, y_train))\n",
    "print(\"Test accuracy:\", cv.score(X_test, y_test))\n",
    "\n",
    "# test the best model\n",
    "y_pred = cv.predict(X_test)\n",
    "print(classification_report(y_test, y_pred))\n",
    "\n",
    "# print parameters of the best model\n",
    "print(cv.best_params_)"
   ]
  },
  {
   "cell_type": "markdown",
   "metadata": {},
   "source": [
    "The `accuracy` score for the 3rd model is 72% which improved from the 2nd model, 70%. At the same time, the Precision is increased by 2% from the previous model. I want to fine tune and further optimise on the parameters if possible.\n",
    "\n",
    "At this moment, the metric Recall (sensitivity) is accpetable at 81% and 61%.\n",
    "\n",
    "Let's do another grid-search, now being more specific using the result from the 1st grid-search."
   ]
  },
  {
   "cell_type": "code",
   "execution_count": 28,
   "metadata": {},
   "outputs": [
    {
     "name": "stdout",
     "output_type": "stream",
     "text": [
      "Train accuracy: 0.7495621716287215\n",
      "Test accuracy: 0.7183673469387755\n",
      "              precision    recall  f1-score   support\n",
      "\n",
      "           0       0.71      0.81      0.76       132\n",
      "           1       0.73      0.61      0.67       113\n",
      "\n",
      "    accuracy                           0.72       245\n",
      "   macro avg       0.72      0.71      0.71       245\n",
      "weighted avg       0.72      0.72      0.71       245\n",
      "\n",
      "{'criterion': 'gini', 'max_depth': 4, 'min_samples_leaf': 45}\n"
     ]
    },
    {
     "name": "stderr",
     "output_type": "stream",
     "text": [
      "/usr/local/lib/python3.6/site-packages/sklearn/model_selection/_search.py:813: DeprecationWarning:\n",
      "\n",
      "The default of the `iid` parameter will change from True to False in version 0.22 and will be removed in 0.24. This will change numeric results when test-set sizes are unequal.\n",
      "\n"
     ]
    }
   ],
   "source": [
    "# GridsearchCV #2\n",
    "\n",
    "params = {'criterion': ['gini'],\n",
    "          'max_depth': range(1, 6),\n",
    "          'min_samples_leaf': range(40, 60, 5)}\n",
    "\n",
    "cv = GridSearchCV(param_grid=params, estimator=DecisionTreeClassifier(random_state=rs), cv=10)\n",
    "cv.fit(X_train, y_train)\n",
    "\n",
    "print(\"Train accuracy:\", cv.score(X_train, y_train))\n",
    "print(\"Test accuracy:\", cv.score(X_test, y_test))\n",
    "\n",
    "# test the best model\n",
    "y_pred = cv.predict(X_test)\n",
    "print(classification_report(y_test, y_pred))\n",
    "\n",
    "# print parameters of the best model\n",
    "print(cv.best_params_)"
   ]
  },
  {
   "cell_type": "markdown",
   "metadata": {},
   "source": [
    "The `classification report` of 4th model return not much different from the 3rd model. Both models have same weighted average score for `Accuracy`, `Precision` and `Recall`. In this case, I will retrain a new model based simpler hyperparameter, being only 4 levels deep. "
   ]
  },
  {
   "cell_type": "code",
   "execution_count": 38,
   "metadata": {},
   "outputs": [
    {
     "name": "stdout",
     "output_type": "stream",
     "text": [
      "Train accuracy: 0.7758318739054291 \n",
      "Test accuracy: 0.7061224489795919\n",
      "\n"
     ]
    }
   ],
   "source": [
    "# Retrain final model with optimal parameter, max_depth limit = 4\n",
    "\n",
    "model = DecisionTreeClassifier(max_depth=4, random_state=rs)\n",
    "model.fit(X_train, y_train)\n",
    "\n",
    "print(\"Train accuracy:\", model.score(X_train, y_train),\"\\nTest accuracy:\", model.score(X_test, y_test))\n",
    "print()"
   ]
  },
  {
   "cell_type": "code",
   "execution_count": 39,
   "metadata": {},
   "outputs": [],
   "source": [
    "# Visualize the optimal tree\n",
    "\n",
    "dotfile = StringIO()\n",
    "export_graphviz(model, out_file=dotfile, feature_names=X.columns)\n",
    "\n",
    "graph = pydot.graph_from_dot_data(dotfile.getvalue())\n",
    "graph[0].write_png(\"optimal_tree.png\") # saved in the following file"
   ]
  },
  {
   "cell_type": "markdown",
   "metadata": {},
   "source": [
    "![GridSearchCV decision tree](optimal_tree.png)"
   ]
  },
  {
   "cell_type": "markdown",
   "metadata": {},
   "source": [
    "Note for Leaf node:\n",
    "\n",
    "    True: The movie will generate USD 100 million and above\n",
    "    False: The movie will generate less than USD 100 million"
   ]
  },
  {
   "cell_type": "code",
   "execution_count": null,
   "metadata": {},
   "outputs": [],
   "source": []
  }
 ],
 "metadata": {
  "kernelspec": {
   "display_name": "Python 3",
   "language": "python",
   "name": "python3"
  },
  "language_info": {
   "codemirror_mode": {
    "name": "ipython",
    "version": 3
   },
   "file_extension": ".py",
   "mimetype": "text/x-python",
   "name": "python",
   "nbconvert_exporter": "python",
   "pygments_lexer": "ipython3",
   "version": "3.6.5"
  }
 },
 "nbformat": 4,
 "nbformat_minor": 4
}
