{
 "cells": [
  {
   "cell_type": "markdown",
   "metadata": {},
   "source": [
    "## Final Exam WQD 7005 Data Mining \n",
    "## Question 1 \n",
    "\n",
    "### Name: Nurullainy binti Mat Rashid                   \n",
    "### ID :  17036591"
   ]
  },
  {
   "cell_type": "markdown",
   "metadata": {},
   "source": [
    "### Topic: Web Crawling Data of TV Shows and Movies at Internet Movie Database (IMDb)\n",
    "\n",
    "IMDb is an online database of information related to films, television programs, home videos, video games, and streaming content online – including cast, year released, ratings, production crew, plot summaries, trivia, fan and critical reviews. \n",
    "\n",
    "I want to analyze data of TV Show and movie from IMDb. The data can be extracted from this website : https://www.imdb.com/search/title/?year=2017\n"
   ]
  },
  {
   "cell_type": "markdown",
   "metadata": {},
   "source": [
    "First of all, I will do the following step:\n",
    "\n",
    "1) Import requests module and BeautifulSoup from bs4\n",
    "\n",
    "2) Assign the address of the web page to a variable named url.\n",
    "\n",
    "3) Request the server the content of the web page by using get(), and store the server’s response in the variable response.\n",
    "\n",
    "4) Print a small part of response‘s content by accessing its text attribute (response is now a Response object)."
   ]
  },
  {
   "cell_type": "code",
   "execution_count": 1,
   "metadata": {},
   "outputs": [],
   "source": [
    "import requests\n",
    "from bs4 import BeautifulSoup as soup\n",
    "import re\n"
   ]
  },
  {
   "cell_type": "code",
   "execution_count": 2,
   "metadata": {},
   "outputs": [
    {
     "name": "stdout",
     "output_type": "stream",
     "text": [
      "HTTP status: 200\n",
      "\n",
      "\n",
      "\n",
      "<!DOCTYPE html>\n",
      "<html\n",
      "    xmlns:og=\"http://ogp.me/ns#\"\n",
      "    xmlns:fb=\"http://www.facebook.com/2008/fbml\">\n",
      "    <head>\n",
      "         \n",
      "        <meta charset=\"utf-8\">\n",
      "        <meta http-equiv=\"X-UA-Compatible\" content=\"IE=edge\">\n",
      "\n",
      "    <meta name=\"apple-itunes-app\" content=\"app-id=342792525, app-argument=imd\n"
     ]
    }
   ],
   "source": [
    "url = \"https://www.imdb.com/search/title/?year=2017\"\n",
    "\n",
    "response = requests.get(url, headers = {\"Accept-Language\": \"en-US, en;q=0.5\"})\n",
    "\n",
    "print('HTTP status:',response.status_code) # return response status from the server\n",
    "\n",
    "print(response.text[:300]) # Print a small part of response‘s content by accessing its .text attribute "
   ]
  },
  {
   "cell_type": "markdown",
   "metadata": {},
   "source": [
    "### Using BeautifulSoup to parse the HTML content\n",
    "\n",
    "Parsing HTML document and extract the 50 div containers\n",
    "\n",
    "1) Import the BeautifulSoup class creator from the package bs4.\n",
    "\n",
    "2) Parse response.text by creating a BeautifulSoup object, and assign this object to page_soup. \n",
    "\n",
    "3) The 'html.parser' argument indicates that we want to do the parsing using Python’s built-in HTML parser."
   ]
  },
  {
   "cell_type": "code",
   "execution_count": 3,
   "metadata": {},
   "outputs": [
    {
     "data": {
      "text/plain": [
       "bs4.BeautifulSoup"
      ]
     },
     "execution_count": 3,
     "metadata": {},
     "output_type": "execute_result"
    }
   ],
   "source": [
    "page_soup = soup(response.text, \"html.parser\")  # .text or .content\n",
    "\n",
    "type(page_soup)\n",
    "\n",
    "# print(page_soup.prettify())"
   ]
  },
  {
   "cell_type": "markdown",
   "metadata": {},
   "source": [
    "Class attribute has two values; 1) lister-item and 2) mode-advanced.  \n",
    "\n",
    "This combination is unique to these div containers. Use the find_all() method to extract all the div containers that have a class attribute of lister-item mode-advanced and assign it to variable movie_container. It will return a ResultSet object which is a list containing all the 50 divs"
   ]
  },
  {
   "cell_type": "code",
   "execution_count": 4,
   "metadata": {},
   "outputs": [
    {
     "data": {
      "text/plain": [
       "50"
      ]
     },
     "execution_count": 4,
     "metadata": {},
     "output_type": "execute_result"
    }
   ],
   "source": [
    "# To extract all the tv show and movie containers that have a class attribute of lister-item mode-advanced\n",
    "\n",
    "movies_container = page_soup.find_all('div', class_='lister-item mode-advanced')\n",
    "\n",
    "# Number of movies in current web page\n",
    "len(movies_container)"
   ]
  },
  {
   "cell_type": "markdown",
   "metadata": {},
   "source": [
    "### Extracting the data for a single movie container\n",
    "\n",
    "Now I’m selecting one movie container (let say the first container) to extract 9 attributes that I am interested with for next data mining purposes:\n",
    "\n",
    "    1)\tThe name of the TV show or movie\n",
    "    2)\tThe year of release\n",
    "    3)\tRuntime of each TV show or movie\n",
    "    4)\tGenre of TV show or movie\n",
    "    5)\tRevenues from the movie released\n",
    "    6)\tThe IMDB rating\n",
    "    7)\tThe number of votes from user\n",
    "    8)\tStars of the TV show or movie (name of director and main cast)\n",
    "    9)\tHyperlink to the TV show or movie\n"
   ]
  },
  {
   "cell_type": "code",
   "execution_count": 5,
   "metadata": {},
   "outputs": [
    {
     "name": "stdout",
     "output_type": "stream",
     "text": [
      "1.\n",
      "Dark\n",
      "(2017–2020)\n",
      "\n",
      "\n",
      "TV-MA\n",
      "|\n",
      "60 min\n",
      "|\n",
      "\n",
      "Crime, Drama, Mystery            \n",
      "\n",
      "\n",
      "\n",
      "\n",
      "8.8\n",
      "\n",
      "\n",
      "\n",
      "\n",
      "Rate this\n",
      "\n",
      "\n",
      "\n",
      "\n",
      "\n",
      "\n",
      " \n",
      " \n",
      "\n",
      "1\n",
      "2\n",
      "3\n",
      "4\n",
      "5\n",
      "6\n",
      "7\n",
      "8\n",
      "9\n",
      "10\n",
      "\n",
      "8.8/10\n",
      "X\n",
      " \n",
      "\n",
      "\n",
      "\n",
      "\n",
      "    A family saga with a supernatural twist, set in a German town, where the disappearance of two young children exposes the relationships among four families.\n",
      "\n",
      "            \n",
      "    Stars:\n",
      "Karoline Eichhorn, \n",
      "Louis Hofmann, \n",
      "Jördis Triebel, \n",
      "Stephan Kampwirth\n",
      "\n",
      "\n",
      "Votes:\n",
      "192,616\n"
     ]
    }
   ],
   "source": [
    "# Access the first container which contains information about a single movie\n",
    "# From a single movie, using this information to extract more data (date release, ratings, etc)\n",
    "\n",
    "first_movie = movies_container[0]  # 1st movie in the list\n",
    "\n",
    "print(first_movie.text.strip()) # Print a small part of response‘s content by accessing its .text attribute "
   ]
  },
  {
   "cell_type": "markdown",
   "metadata": {},
   "source": [
    "### Extracting information for all the TV shows and movies in a single page\n",
    "\n",
    "\n",
    "    1) Declare some list variables to have something to store the extracted data in.\n",
    "    2) Loop through each container in movie_containers (the variable which contains all the 50 movie containers).\n",
    "    3) Extract the data points of interest only if the container is True"
   ]
  },
  {
   "cell_type": "code",
   "execution_count": 32,
   "metadata": {},
   "outputs": [],
   "source": [
    "# List to store the scraped data in\n",
    "\n",
    "names = []\n",
    "years = []\n",
    "runtimes = []\n",
    "genres = []\n",
    "revenues = []\n",
    "imdb_ratings = []\n",
    "votes = [] \n",
    "stars = [] \n",
    "hyperlinks = []"
   ]
  },
  {
   "cell_type": "code",
   "execution_count": 7,
   "metadata": {},
   "outputs": [],
   "source": [
    "for container in movies_container:\n",
    "    if container is not None:\n",
    "        \n",
    "        name = container.h3.a.text\n",
    "        names.append(name)\n",
    "        \n",
    "        year = container.h3.find('span', class_='lister-item-year text-muted unbold').text\n",
    "        years.append(year)\n",
    "\n",
    "        if container.find('span', class_='runtime'):\n",
    "            runtime = container.find('span', class_='runtime').text\n",
    "        else:\n",
    "            runtime = ' '\n",
    "        runtimes.append(runtime)\n",
    "        \n",
    "        genre = container.p.find('span', class_='genre').text\n",
    "        genre = genre.replace('\\n', '')\n",
    "        genre = genre.rstrip()\n",
    "        genres.append(genre)\n",
    "        \n",
    "        if container.findAll('span', attrs = {'name':'nv'})[1:]:\n",
    "            revenue = container.findAll('span', attrs = {'name':'nv'})[1:]\n",
    "            revenue = str(revenue)\n",
    "            revenue = revenue.replace(' ', '').strip()\n",
    "            revenue = revenue.replace('[<spandata-value=\"', '').strip()\n",
    "            revenue = revenue.replace('\"name=\"nv\"', '').strip()\n",
    "            revenue = revenue.replace('</span>]', '').strip()\n",
    "        \n",
    "        else:\n",
    "            revenue = ''\n",
    "            \n",
    "        revenues.append(revenue)\n",
    "        \n",
    "        imdb_rating = container.strong.text\n",
    "        imdb_rating = float(imdb_rating)\n",
    "        imdb_ratings.append(imdb_rating)\n",
    "        \n",
    "        vote = container.find('span', attrs = {'name':'nv'})['data-value']\n",
    "        vote = int(vote)\n",
    "        votes.append(vote)\n",
    "        \n",
    "        star = container.find('p', class_='').text\n",
    "        star = str(star)\n",
    "        star = star.replace('\\n', '').strip()\n",
    "        stars.append(star)\n",
    "        \n",
    "        link = container.h3.find('a')['href']\n",
    "        link = \"https://www.imdb.com/\"+link\n",
    "        hyperlinks.append(link)\n",
    "    \n",
    "    else:\n",
    "        container = ''"
   ]
  },
  {
   "cell_type": "markdown",
   "metadata": {},
   "source": [
    "Let’s check the data collected using Pandas library"
   ]
  },
  {
   "cell_type": "code",
   "execution_count": 9,
   "metadata": {},
   "outputs": [
    {
     "name": "stdout",
     "output_type": "stream",
     "text": [
      "<class 'pandas.core.frame.DataFrame'>\n",
      "RangeIndex: 50 entries, 0 to 49\n",
      "Data columns (total 9 columns):\n",
      "movie_name       50 non-null object\n",
      "year_released    50 non-null object\n",
      "runtime          50 non-null object\n",
      "genre            50 non-null object\n",
      "revenues         50 non-null object\n",
      "imdb_rating      50 non-null float64\n",
      "vote             50 non-null int64\n",
      "Star             50 non-null object\n",
      "link             50 non-null object\n",
      "dtypes: float64(1), int64(1), object(7)\n",
      "memory usage: 3.6+ KB\n",
      "None\n"
     ]
    }
   ],
   "source": [
    "import pandas as pd\n",
    "\n",
    "output_df = pd.DataFrame({'movie_name':names,\n",
    "                          'year_released':years,\n",
    "                          'runtime': runtimes,\n",
    "                          'genre' : genres,\n",
    "                          'revenues' : revenues,\n",
    "                          'imdb_rating':imdb_ratings,\n",
    "                          'vote':votes,\n",
    "                          'Star':stars,\n",
    "                          'link' : hyperlinks,\n",
    "                         })\n",
    "\n",
    "print(output_df.info())"
   ]
  },
  {
   "cell_type": "code",
   "execution_count": 10,
   "metadata": {},
   "outputs": [
    {
     "data": {
      "text/html": [
       "<div>\n",
       "<style scoped>\n",
       "    .dataframe tbody tr th:only-of-type {\n",
       "        vertical-align: middle;\n",
       "    }\n",
       "\n",
       "    .dataframe tbody tr th {\n",
       "        vertical-align: top;\n",
       "    }\n",
       "\n",
       "    .dataframe thead th {\n",
       "        text-align: right;\n",
       "    }\n",
       "</style>\n",
       "<table border=\"1\" class=\"dataframe\">\n",
       "  <thead>\n",
       "    <tr style=\"text-align: right;\">\n",
       "      <th></th>\n",
       "      <th>movie_name</th>\n",
       "      <th>year_released</th>\n",
       "      <th>runtime</th>\n",
       "      <th>genre</th>\n",
       "      <th>revenues</th>\n",
       "      <th>imdb_rating</th>\n",
       "      <th>vote</th>\n",
       "      <th>Star</th>\n",
       "      <th>link</th>\n",
       "    </tr>\n",
       "  </thead>\n",
       "  <tbody>\n",
       "    <tr>\n",
       "      <th>40</th>\n",
       "      <td>Taboo</td>\n",
       "      <td>(2017– )</td>\n",
       "      <td>59 min</td>\n",
       "      <td>Drama, Mystery, Thriller</td>\n",
       "      <td></td>\n",
       "      <td>8.4</td>\n",
       "      <td>110615</td>\n",
       "      <td>Stars:Tom Hardy, David Hayman, Jonathan Pryce,...</td>\n",
       "      <td>https://www.imdb.com//title/tt3647998/</td>\n",
       "    </tr>\n",
       "    <tr>\n",
       "      <th>41</th>\n",
       "      <td>Wonder Woman</td>\n",
       "      <td>(2017)</td>\n",
       "      <td>141 min</td>\n",
       "      <td>Action, Adventure, Fantasy</td>\n",
       "      <td>412,563,408&gt;$412.56M</td>\n",
       "      <td>7.4</td>\n",
       "      <td>530191</td>\n",
       "      <td>Director:Patty Jenkins|     Stars:Gal Gadot, C...</td>\n",
       "      <td>https://www.imdb.com//title/tt0451279/</td>\n",
       "    </tr>\n",
       "    <tr>\n",
       "      <th>42</th>\n",
       "      <td>Baby Driver</td>\n",
       "      <td>(2017)</td>\n",
       "      <td>113 min</td>\n",
       "      <td>Action, Crime, Drama</td>\n",
       "      <td>107,825,862&gt;$107.83M</td>\n",
       "      <td>7.6</td>\n",
       "      <td>414486</td>\n",
       "      <td>Director:Edgar Wright|     Stars:Ansel Elgort,...</td>\n",
       "      <td>https://www.imdb.com//title/tt3890160/</td>\n",
       "    </tr>\n",
       "    <tr>\n",
       "      <th>43</th>\n",
       "      <td>Pirates of the Caribbean: Dead Men Tell No Tales</td>\n",
       "      <td>(2017)</td>\n",
       "      <td>129 min</td>\n",
       "      <td>Action, Adventure, Fantasy</td>\n",
       "      <td>172,558,876&gt;$172.56M</td>\n",
       "      <td>6.6</td>\n",
       "      <td>251174</td>\n",
       "      <td>Directors:Joachim Rønning, Espen Sandberg|    ...</td>\n",
       "      <td>https://www.imdb.com//title/tt1790809/</td>\n",
       "    </tr>\n",
       "    <tr>\n",
       "      <th>44</th>\n",
       "      <td>Logan</td>\n",
       "      <td>(2017)</td>\n",
       "      <td>137 min</td>\n",
       "      <td>Action, Drama, Sci-Fi</td>\n",
       "      <td>226,277,068&gt;$226.28M</td>\n",
       "      <td>8.1</td>\n",
       "      <td>619867</td>\n",
       "      <td>Director:James Mangold|     Stars:Hugh Jackman...</td>\n",
       "      <td>https://www.imdb.com//title/tt3315342/</td>\n",
       "    </tr>\n",
       "    <tr>\n",
       "      <th>45</th>\n",
       "      <td>GLOW</td>\n",
       "      <td>(2017– )</td>\n",
       "      <td>35 min</td>\n",
       "      <td>Comedy, Drama, Sport</td>\n",
       "      <td></td>\n",
       "      <td>8.0</td>\n",
       "      <td>37588</td>\n",
       "      <td>Stars:Alison Brie, Marc Maron, Betty Gilpin, B...</td>\n",
       "      <td>https://www.imdb.com//title/tt5770786/</td>\n",
       "    </tr>\n",
       "    <tr>\n",
       "      <th>46</th>\n",
       "      <td>Jumanji: Welcome to the Jungle</td>\n",
       "      <td>(2017)</td>\n",
       "      <td>119 min</td>\n",
       "      <td>Action, Adventure, Comedy</td>\n",
       "      <td>404,515,480&gt;$404.52M</td>\n",
       "      <td>6.9</td>\n",
       "      <td>303414</td>\n",
       "      <td>Director:Jake Kasdan|     Stars:Dwayne Johnson...</td>\n",
       "      <td>https://www.imdb.com//title/tt2283362/</td>\n",
       "    </tr>\n",
       "    <tr>\n",
       "      <th>47</th>\n",
       "      <td>Young Sheldon</td>\n",
       "      <td>(2017– )</td>\n",
       "      <td>30 min</td>\n",
       "      <td>Comedy</td>\n",
       "      <td></td>\n",
       "      <td>7.4</td>\n",
       "      <td>30377</td>\n",
       "      <td>Stars:Iain Armitage, Zoe Perry, Lance Barber, ...</td>\n",
       "      <td>https://www.imdb.com//title/tt6226232/</td>\n",
       "    </tr>\n",
       "    <tr>\n",
       "      <th>48</th>\n",
       "      <td>King Arthur: Legend of the Sword</td>\n",
       "      <td>(2017)</td>\n",
       "      <td>126 min</td>\n",
       "      <td>Action, Adventure, Drama</td>\n",
       "      <td>39,175,066&gt;$39.18M</td>\n",
       "      <td>6.7</td>\n",
       "      <td>184938</td>\n",
       "      <td>Director:Guy Ritchie|     Stars:Charlie Hunnam...</td>\n",
       "      <td>https://www.imdb.com//title/tt1972591/</td>\n",
       "    </tr>\n",
       "    <tr>\n",
       "      <th>49</th>\n",
       "      <td>Imposters</td>\n",
       "      <td>(2017– )</td>\n",
       "      <td>41 min</td>\n",
       "      <td>Comedy, Crime, Drama</td>\n",
       "      <td></td>\n",
       "      <td>7.8</td>\n",
       "      <td>9298</td>\n",
       "      <td>Stars:Inbar Lavi, Rob Heaps, Parker Young, Mar...</td>\n",
       "      <td>https://www.imdb.com//title/tt5212822/</td>\n",
       "    </tr>\n",
       "  </tbody>\n",
       "</table>\n",
       "</div>"
      ],
      "text/plain": [
       "                                          movie_name year_released  runtime  \\\n",
       "40                                             Taboo      (2017– )   59 min   \n",
       "41                                      Wonder Woman        (2017)  141 min   \n",
       "42                                       Baby Driver        (2017)  113 min   \n",
       "43  Pirates of the Caribbean: Dead Men Tell No Tales        (2017)  129 min   \n",
       "44                                             Logan        (2017)  137 min   \n",
       "45                                              GLOW      (2017– )   35 min   \n",
       "46                    Jumanji: Welcome to the Jungle        (2017)  119 min   \n",
       "47                                     Young Sheldon      (2017– )   30 min   \n",
       "48                  King Arthur: Legend of the Sword        (2017)  126 min   \n",
       "49                                         Imposters      (2017– )   41 min   \n",
       "\n",
       "                         genre              revenues  imdb_rating    vote  \\\n",
       "40    Drama, Mystery, Thriller                                8.4  110615   \n",
       "41  Action, Adventure, Fantasy  412,563,408>$412.56M          7.4  530191   \n",
       "42        Action, Crime, Drama  107,825,862>$107.83M          7.6  414486   \n",
       "43  Action, Adventure, Fantasy  172,558,876>$172.56M          6.6  251174   \n",
       "44       Action, Drama, Sci-Fi  226,277,068>$226.28M          8.1  619867   \n",
       "45        Comedy, Drama, Sport                                8.0   37588   \n",
       "46   Action, Adventure, Comedy  404,515,480>$404.52M          6.9  303414   \n",
       "47                      Comedy                                7.4   30377   \n",
       "48    Action, Adventure, Drama    39,175,066>$39.18M          6.7  184938   \n",
       "49        Comedy, Crime, Drama                                7.8    9298   \n",
       "\n",
       "                                                 Star  \\\n",
       "40  Stars:Tom Hardy, David Hayman, Jonathan Pryce,...   \n",
       "41  Director:Patty Jenkins|     Stars:Gal Gadot, C...   \n",
       "42  Director:Edgar Wright|     Stars:Ansel Elgort,...   \n",
       "43  Directors:Joachim Rønning, Espen Sandberg|    ...   \n",
       "44  Director:James Mangold|     Stars:Hugh Jackman...   \n",
       "45  Stars:Alison Brie, Marc Maron, Betty Gilpin, B...   \n",
       "46  Director:Jake Kasdan|     Stars:Dwayne Johnson...   \n",
       "47  Stars:Iain Armitage, Zoe Perry, Lance Barber, ...   \n",
       "48  Director:Guy Ritchie|     Stars:Charlie Hunnam...   \n",
       "49  Stars:Inbar Lavi, Rob Heaps, Parker Young, Mar...   \n",
       "\n",
       "                                      link  \n",
       "40  https://www.imdb.com//title/tt3647998/  \n",
       "41  https://www.imdb.com//title/tt0451279/  \n",
       "42  https://www.imdb.com//title/tt3890160/  \n",
       "43  https://www.imdb.com//title/tt1790809/  \n",
       "44  https://www.imdb.com//title/tt3315342/  \n",
       "45  https://www.imdb.com//title/tt5770786/  \n",
       "46  https://www.imdb.com//title/tt2283362/  \n",
       "47  https://www.imdb.com//title/tt6226232/  \n",
       "48  https://www.imdb.com//title/tt1972591/  \n",
       "49  https://www.imdb.com//title/tt5212822/  "
      ]
     },
     "execution_count": 10,
     "metadata": {},
     "output_type": "execute_result"
    }
   ],
   "source": [
    "# The first 50 movies in page 1\n",
    "\n",
    "output_df.tail(10)"
   ]
  },
  {
   "cell_type": "markdown",
   "metadata": {},
   "source": [
    "### Extracting data for all TV shows and movies from multiple pages from year 2000 - 2020\n",
    "\n",
    "    1) Create a list called pages, and populate it with the strings corresponding to the first 4 pages.\n",
    "    2) Create a list called years_url and populate it with the strings corresponding to the years 2000-2020\n"
   ]
  },
  {
   "cell_type": "code",
   "execution_count": 44,
   "metadata": {},
   "outputs": [],
   "source": [
    "pages = [str(i) for i in range(1,5)]\n",
    "years_url = [str(i) for i in range(2000,2021)]"
   ]
  },
  {
   "cell_type": "markdown",
   "metadata": {},
   "source": [
    "### Controlling the crawl-rate\n",
    "\n",
    "Controlling the rate of crawling is important for the website that I will be scraping. If I not controlling the rate of crawling, much less likely to get my IP address banned. \n",
    "\n",
    "Need to avoid activity distruption of the scraped website by allowing the server to respond to other users’ requests too.\n",
    "\n",
    "Control the loop’s rate by using the sleep() function from Python’s time module. sleep() will pause the execution of the loop for a specified amount of seconds. To mimic human behavior, I’ll vary the amount of waiting time between requests by using the randint() function from the Python’s random module. randint() randomly generates integers within a specified interval."
   ]
  },
  {
   "cell_type": "code",
   "execution_count": 45,
   "metadata": {},
   "outputs": [],
   "source": [
    "from time import sleep\n",
    "from random import randint\n",
    "\n",
    "sleep(randint(1,4))"
   ]
  },
  {
   "cell_type": "markdown",
   "metadata": {},
   "source": [
    "Since the web scraping is more than 10 pages, it would be nice to find a way to monitor the scraping process as it’s still going. The greater the number of pages, the more helpful the monitoring becomes.\n",
    "\n",
    "For my script, I’ll make use of this feature, and monitor the following parameters:\n",
    "    \n",
    "    1) The frequency (speed) of requests, to ensure our program is not overloading the server\n",
    "    2) The number of requests, so I can halt the loop in case the number of expected requests is exceeded \n",
    "    3) The status code of our requests, to make sure the server is sending back the proper responses\n",
    "\n",
    "To get a frequency value, I divide the number of requests by the time elapsed since the first request.\n",
    "\n",
    "    1) Set a starting time using the time() function from the time module, and assign the value to start_time.\n",
    "    2) Assign 0 to the variable requests which to be use to count the number of requests.\n",
    "    3) Start a loop, and then with each iteration:\n",
    "    \n",
    "    - Simulate a request\n",
    "    - Increment the number of requests by 1\n",
    "    - Pause the loop for a time interval between 8 and 15 seconds\n",
    "    - Calculate the elapsed time since the first request, and assign the value to elapsed_time\n",
    "    - Print the number of requests and the frequency"
   ]
  },
  {
   "cell_type": "markdown",
   "metadata": {},
   "source": [
    "If I set my request to 100 requests, my output return will look a lengthy and a bit untidy as the output accumulates. To avoid that, I’ll clear the output after each iteration, and replace it with information about the most recent request. I use the clear_output() function from the IPython’s core.display module. Then set the wait parameter of clear_output() to True to wait with replacing the current output until some new output appears."
   ]
  },
  {
   "cell_type": "code",
   "execution_count": 46,
   "metadata": {},
   "outputs": [
    {
     "name": "stdout",
     "output_type": "stream",
     "text": [
      "Request: 3; Frequency: 0.427842278341519 requests/s\n"
     ]
    }
   ],
   "source": [
    "from time import time\n",
    "from IPython.core.display import clear_output\n",
    "\n",
    "start_time = time()\n",
    "requests = 0\n",
    "\n",
    "for _ in range(3):\n",
    "\n",
    "    # A request would go here\n",
    "    requests += 1\n",
    "    sleep(randint(1,3))\n",
    "    current_time = time()\n",
    "    elapsed_time = current_time - start_time\n",
    "    print('Request: {}; Frequency: {} requests/s'.format(requests, requests/elapsed_time))\n",
    "\n",
    "    clear_output(wait = True)  # set wait = True, to wait with replacing the current output until some new output appears."
   ]
  },
  {
   "cell_type": "markdown",
   "metadata": {},
   "source": [
    "Let's start scraping all TV shows and movies from year 2000 until 2020"
   ]
  },
  {
   "cell_type": "code",
   "execution_count": 47,
   "metadata": {},
   "outputs": [],
   "source": [
    "# Redeclaring the lists variables so they become empty again.\n",
    "\n",
    "names = []\n",
    "years = []\n",
    "runtimes = [] \n",
    "genres = []\n",
    "revenues = []\n",
    "imdb_ratings = []\n",
    "votes = []\n",
    "stars = [] \n",
    "hyperlinks = []"
   ]
  },
  {
   "cell_type": "code",
   "execution_count": 48,
   "metadata": {},
   "outputs": [
    {
     "name": "stdout",
     "output_type": "stream",
     "text": [
      "Request:84; Frequency: 0.06464969451330399 requests/s\n"
     ]
    }
   ],
   "source": [
    "from requests import get\n",
    "from warnings import warn\n",
    "\n",
    "headers = {'User-Agent': 'Mozilla/5.0 (Macintosh; Intel Mac OS X 10_13_6) AppleWebKit/537.36 (KHTML, like Gecko) Chrome/70.0.3538.77 Safari/537.36'}\n",
    "\n",
    "\n",
    "# Preparing the monitoring of the loop\n",
    "start_time = time()\n",
    "requests = 0\n",
    "\n",
    "# For every year in the interval 2000-2020\n",
    "for year_url in years_url:\n",
    "\n",
    "    # For every page in the interval 1-4\n",
    "    for page in pages:\n",
    "        \n",
    "        # Make a get request\n",
    "        url = \"http://www.imdb.com/search/title?release_date=\"\n",
    "        response = get(url + year_url + '&sort=num_votes,desc&page=1' + page, headers = headers)\n",
    "\n",
    "        # Pause the loop between 8 and 15 seconds\n",
    "        sleep(randint(8,16))\n",
    "\n",
    "        # Monitor the requests\n",
    "        requests += 1\n",
    "        elapsed_time = time() - start_time\n",
    "        print('Request:{}; Frequency: {} requests/s'.format(requests, requests/elapsed_time))\n",
    "        clear_output(wait = True)\n",
    "\n",
    "        # Throw a warning for non-200 status codes\n",
    "        if response.status_code != 200:\n",
    "            warn('Request: {}; Status code: {}'.format(requests, response.status_code))\n",
    "\n",
    "        # Break the loop if the number of requests is greater than expected\n",
    "        if requests > 100:\n",
    "            warn('Number of requests exceeds than expected.')\n",
    "            break\n",
    "\n",
    "        # Parse the content of the request with BeautifulSoup\n",
    "        page_html = soup(response.text, 'html.parser')\n",
    "\n",
    "        # Select all the 50 movie containers from a single page\n",
    "        movies_container = page_html.find_all('div', class_ = 'lister-item mode-advanced')\n",
    "\n",
    "        for container in movies_container:\n",
    "            if container is not None:\n",
    "        \n",
    "                name = container.h3.a.text\n",
    "                names.append(name)\n",
    "        \n",
    "                year = container.h3.find('span', class_='lister-item-year text-muted unbold').text\n",
    "                years.append(year)\n",
    "\n",
    "                if container.find('span', class_='runtime'):\n",
    "                    runtime = container.find('span', class_='runtime').text\n",
    "                else:\n",
    "                    runtime = ' '\n",
    "                runtimes.append(runtime)\n",
    "        \n",
    "                genre = container.p.find('span', class_='genre').text\n",
    "                genre = genre.replace('\\n', '')\n",
    "                genre = genre.rstrip()\n",
    "                genres.append(genre)\n",
    "        \n",
    "                if container.findAll('span', attrs = {'name':'nv'})[1:]:\n",
    "                    revenue = container.findAll('span', attrs = {'name':'nv'})[1:]\n",
    "                    revenue = str(revenue)\n",
    "                    revenue = revenue.replace(' ', '').strip()\n",
    "                    revenue = revenue.replace('[<spandata-value=\"', '').strip()\n",
    "                    revenue = revenue.replace('\"name=\"nv\"', '').strip()\n",
    "                    revenue = revenue.replace('</span>]', '').strip()\n",
    "        \n",
    "                else:\n",
    "                    revenue = ''\n",
    "                revenues.append(revenue)\n",
    "                \n",
    "                imdb_rating = container.strong.text\n",
    "                imdb_rating = float(imdb_rating)\n",
    "                imdb_ratings.append(imdb_rating)\n",
    "        \n",
    "                vote = container.find('span', attrs = {'name':'nv'})['data-value']\n",
    "                vote = int(vote)\n",
    "                votes.append(vote)\n",
    "        \n",
    "                star = container.find('p', class_='').text\n",
    "                star = str(star)\n",
    "                star = star.replace('\\n', '').strip()\n",
    "                stars.append(star)\n",
    "        \n",
    "                link = container.h3.find('a')['href']\n",
    "                link = \"https://www.imdb.com/\"+link\n",
    "                hyperlinks.append(link)\n",
    "    \n",
    "            else:\n",
    "                container = ''"
   ]
  },
  {
   "cell_type": "markdown",
   "metadata": {},
   "source": [
    "I set the loop limit to 100 but the requests stop at request number 84. This indicates that I have collected all TV shows and movies data from year 2000 - 2020"
   ]
  },
  {
   "cell_type": "code",
   "execution_count": 49,
   "metadata": {},
   "outputs": [
    {
     "name": "stdout",
     "output_type": "stream",
     "text": [
      "<class 'pandas.core.frame.DataFrame'>\n",
      "RangeIndex: 4200 entries, 0 to 4199\n",
      "Data columns (total 9 columns):\n",
      "movie_name         4200 non-null object\n",
      "year_released      4200 non-null object\n",
      "runtime_in_min     4200 non-null object\n",
      "genre              4200 non-null object\n",
      "revenues           4200 non-null object\n",
      "imdb_rating        4200 non-null float64\n",
      "number_of_votes    4200 non-null int64\n",
      "Star               4200 non-null object\n",
      "link               4200 non-null object\n",
      "dtypes: float64(1), int64(1), object(7)\n",
      "memory usage: 295.4+ KB\n",
      "None\n"
     ]
    }
   ],
   "source": [
    "output_df = pd.DataFrame({'movie_name':names,\n",
    "                          'year_released':years,\n",
    "                          'runtime_in_min': runtimes,\n",
    "                          'genre' : genres,\n",
    "                          'revenues' : revenues,\n",
    "                          'imdb_rating':imdb_ratings,\n",
    "                          'number_of_votes':votes,\n",
    "                          'Star':stars,\n",
    "                          'link' : hyperlinks,\n",
    "                         })\n",
    "\n",
    "print(output_df.info())"
   ]
  },
  {
   "cell_type": "code",
   "execution_count": 50,
   "metadata": {},
   "outputs": [
    {
     "data": {
      "text/html": [
       "<div>\n",
       "<style scoped>\n",
       "    .dataframe tbody tr th:only-of-type {\n",
       "        vertical-align: middle;\n",
       "    }\n",
       "\n",
       "    .dataframe tbody tr th {\n",
       "        vertical-align: top;\n",
       "    }\n",
       "\n",
       "    .dataframe thead th {\n",
       "        text-align: right;\n",
       "    }\n",
       "</style>\n",
       "<table border=\"1\" class=\"dataframe\">\n",
       "  <thead>\n",
       "    <tr style=\"text-align: right;\">\n",
       "      <th></th>\n",
       "      <th>movie_name</th>\n",
       "      <th>year_released</th>\n",
       "      <th>runtime_in_min</th>\n",
       "      <th>genre</th>\n",
       "      <th>revenues</th>\n",
       "      <th>imdb_rating</th>\n",
       "      <th>number_of_votes</th>\n",
       "      <th>Star</th>\n",
       "      <th>link</th>\n",
       "    </tr>\n",
       "  </thead>\n",
       "  <tbody>\n",
       "    <tr>\n",
       "      <th>0</th>\n",
       "      <td>Gladiator</td>\n",
       "      <td>(2000)</td>\n",
       "      <td>155 min</td>\n",
       "      <td>Action, Adventure, Drama</td>\n",
       "      <td>187,705,427&gt;$187.71M</td>\n",
       "      <td>8.5</td>\n",
       "      <td>1295546</td>\n",
       "      <td>Director:Ridley Scott|     Stars:Russell Crowe...</td>\n",
       "      <td>https://www.imdb.com//title/tt0172495/?ref_=ad...</td>\n",
       "    </tr>\n",
       "    <tr>\n",
       "      <th>1</th>\n",
       "      <td>Memento</td>\n",
       "      <td>(2000)</td>\n",
       "      <td>113 min</td>\n",
       "      <td>Mystery, Thriller</td>\n",
       "      <td>25,544,867&gt;$25.54M</td>\n",
       "      <td>8.4</td>\n",
       "      <td>1088700</td>\n",
       "      <td>Director:Christopher Nolan|     Stars:Guy Pear...</td>\n",
       "      <td>https://www.imdb.com//title/tt0209144/?ref_=ad...</td>\n",
       "    </tr>\n",
       "    <tr>\n",
       "      <th>2</th>\n",
       "      <td>Snatch</td>\n",
       "      <td>(2000)</td>\n",
       "      <td>104 min</td>\n",
       "      <td>Comedy, Crime</td>\n",
       "      <td>30,328,156&gt;$30.33M</td>\n",
       "      <td>8.3</td>\n",
       "      <td>760646</td>\n",
       "      <td>Director:Guy Ritchie|     Stars:Jason Statham,...</td>\n",
       "      <td>https://www.imdb.com//title/tt0208092/?ref_=ad...</td>\n",
       "    </tr>\n",
       "    <tr>\n",
       "      <th>3</th>\n",
       "      <td>Requiem for a Dream</td>\n",
       "      <td>(2000)</td>\n",
       "      <td>102 min</td>\n",
       "      <td>Drama</td>\n",
       "      <td>3,635,482&gt;$3.64M</td>\n",
       "      <td>8.3</td>\n",
       "      <td>742193</td>\n",
       "      <td>Director:Darren Aronofsky|     Stars:Ellen Bur...</td>\n",
       "      <td>https://www.imdb.com//title/tt0180093/?ref_=ad...</td>\n",
       "    </tr>\n",
       "    <tr>\n",
       "      <th>4</th>\n",
       "      <td>X-Men</td>\n",
       "      <td>(2000)</td>\n",
       "      <td>104 min</td>\n",
       "      <td>Action, Adventure, Sci-Fi</td>\n",
       "      <td>157,299,717&gt;$157.30M</td>\n",
       "      <td>7.4</td>\n",
       "      <td>558716</td>\n",
       "      <td>Director:Bryan Singer|     Stars:Patrick Stewa...</td>\n",
       "      <td>https://www.imdb.com//title/tt0120903/?ref_=ad...</td>\n",
       "    </tr>\n",
       "  </tbody>\n",
       "</table>\n",
       "</div>"
      ],
      "text/plain": [
       "            movie_name year_released runtime_in_min  \\\n",
       "0            Gladiator        (2000)        155 min   \n",
       "1              Memento        (2000)        113 min   \n",
       "2               Snatch        (2000)        104 min   \n",
       "3  Requiem for a Dream        (2000)        102 min   \n",
       "4                X-Men        (2000)        104 min   \n",
       "\n",
       "                       genre              revenues  imdb_rating  \\\n",
       "0   Action, Adventure, Drama  187,705,427>$187.71M          8.5   \n",
       "1          Mystery, Thriller    25,544,867>$25.54M          8.4   \n",
       "2              Comedy, Crime    30,328,156>$30.33M          8.3   \n",
       "3                      Drama      3,635,482>$3.64M          8.3   \n",
       "4  Action, Adventure, Sci-Fi  157,299,717>$157.30M          7.4   \n",
       "\n",
       "   number_of_votes                                               Star  \\\n",
       "0          1295546  Director:Ridley Scott|     Stars:Russell Crowe...   \n",
       "1          1088700  Director:Christopher Nolan|     Stars:Guy Pear...   \n",
       "2           760646  Director:Guy Ritchie|     Stars:Jason Statham,...   \n",
       "3           742193  Director:Darren Aronofsky|     Stars:Ellen Bur...   \n",
       "4           558716  Director:Bryan Singer|     Stars:Patrick Stewa...   \n",
       "\n",
       "                                                link  \n",
       "0  https://www.imdb.com//title/tt0172495/?ref_=ad...  \n",
       "1  https://www.imdb.com//title/tt0209144/?ref_=ad...  \n",
       "2  https://www.imdb.com//title/tt0208092/?ref_=ad...  \n",
       "3  https://www.imdb.com//title/tt0180093/?ref_=ad...  \n",
       "4  https://www.imdb.com//title/tt0120903/?ref_=ad...  "
      ]
     },
     "execution_count": 50,
     "metadata": {},
     "output_type": "execute_result"
    }
   ],
   "source": [
    "output_df.head()"
   ]
  },
  {
   "cell_type": "code",
   "execution_count": 51,
   "metadata": {},
   "outputs": [
    {
     "data": {
      "text/plain": [
       "(4200, 9)"
      ]
     },
     "execution_count": 51,
     "metadata": {},
     "output_type": "execute_result"
    }
   ],
   "source": [
    "output_df.shape"
   ]
  },
  {
   "cell_type": "markdown",
   "metadata": {},
   "source": [
    "### Export dataframe to csv file"
   ]
  },
  {
   "cell_type": "code",
   "execution_count": 52,
   "metadata": {},
   "outputs": [],
   "source": [
    "import csv\n",
    "\n",
    "output_df.to_csv('movies_imdb_with revenue.csv',mode = 'w', index=True, header=True)"
   ]
  },
  {
   "cell_type": "code",
   "execution_count": null,
   "metadata": {},
   "outputs": [],
   "source": []
  }
 ],
 "metadata": {
  "kernelspec": {
   "display_name": "Python 3",
   "language": "python",
   "name": "python3"
  },
  "language_info": {
   "codemirror_mode": {
    "name": "ipython",
    "version": 3
   },
   "file_extension": ".py",
   "mimetype": "text/x-python",
   "name": "python",
   "nbconvert_exporter": "python",
   "pygments_lexer": "ipython3",
   "version": "3.6.5"
  }
 },
 "nbformat": 4,
 "nbformat_minor": 4
}
